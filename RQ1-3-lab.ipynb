{
 "cells": [
  {
   "cell_type": "code",
   "execution_count": null,
   "metadata": {},
   "outputs": [],
   "source": [
    "import pyspark\n",
    "from pyspark import SparkContext"
   ]
  },
  {
   "cell_type": "code",
   "execution_count": null,
   "metadata": {},
   "outputs": [],
   "source": [
    "def splitting(data):\n",
    "    data=data.strip().split(\"\\t\")\n",
    "    return((data[0],data[1]))"
   ]
  },
  {
   "cell_type": "code",
   "execution_count": null,
   "metadata": {},
   "outputs": [],
   "source": [
    "data=sparktext1.map(splitting).groupByKey().map(lambda x : (x[0], list(x[1]))).collect()"
   ]
  },
  {
   "cell_type": "code",
   "execution_count": null,
   "metadata": {},
   "outputs": [],
   "source": [
    "from collections import defaultdict\n",
    "graph = defaultdict(list)\n",
    "\n",
    "list1= list()\n",
    "with open(\"wiki-topcats-reduced.txt\") as f:\n",
    "        for line in f:\n",
    "            list1 = line.strip().split(\"\\t\")\n",
    "            if list1[0] in graph.keys():\n",
    "                graph[list1[0]].append(list1[1])\n",
    "            else:\n",
    "                graph[list1[0]]=[list1[1]]"
   ]
  },
  {
   "cell_type": "code",
   "execution_count": null,
   "metadata": {},
   "outputs": [],
   "source": [
    "len(graph)"
   ]
  },
  {
   "cell_type": "code",
   "execution_count": null,
   "metadata": {},
   "outputs": [],
   "source": [
    "#We want to figure out the edges of the graph\n",
    "edges = []\n",
    "for e in graph:\n",
    "    a = graph[e]\n",
    "    for i in range(len(a)):\n",
    "        edges.append(a[i])"
   ]
  },
  {
   "cell_type": "code",
   "execution_count": null,
   "metadata": {},
   "outputs": [],
   "source": [
    "len(edges) #2645247"
   ]
  },
  {
   "cell_type": "code",
   "execution_count": null,
   "metadata": {},
   "outputs": [],
   "source": [
    "len(graph.keys())\n",
    "#FOR SURE DIRECTED GRAPH"
   ]
  },
  {
   "cell_type": "code",
   "execution_count": null,
   "metadata": {},
   "outputs": [],
   "source": [
    "list1= list()\n",
    "with open(\"wiki-topcats-reduced.txt\") as f:\n",
    "        for line in f:\n",
    "            list1.append(line.strip().split(\"\\t\"))"
   ]
  },
  {
   "cell_type": "code",
   "execution_count": null,
   "metadata": {},
   "outputs": [],
   "source": [
    "#We want to figure out the nodes of the graph\n",
    "nodes = []\n",
    "for e in list1:\n",
    "    nodes.append(e[0])\n",
    "    nodes.append(e[1])\n",
    "nodes=set(nodes)"
   ]
  },
  {
   "cell_type": "code",
   "execution_count": null,
   "metadata": {},
   "outputs": [],
   "source": [
    "len(nodes) #461193"
   ]
  },
  {
   "cell_type": "code",
   "execution_count": null,
   "metadata": {},
   "outputs": [],
   "source": [
    "#Average Node Degree\n",
    "count = 0\n",
    "for lst in graph.values():\n",
    "    count += len(lst)\n",
    "avgNodeDegree = count/len(graph.keys())"
   ]
  },
  {
   "cell_type": "code",
   "execution_count": null,
   "metadata": {},
   "outputs": [],
   "source": [
    "avgNodeDegree"
   ]
  },
  {
   "cell_type": "code",
   "execution_count": null,
   "metadata": {},
   "outputs": [],
   "source": [
    "#Density\n",
    "dense = len(edges)/(len(nodes)*(len(nodes)-1))\n",
    "dense"
   ]
  },
  {
   "cell_type": "code",
   "execution_count": null,
   "metadata": {},
   "outputs": [],
   "source": [
    "(len(nodes)*(len(nodes)-1))/2"
   ]
  },
  {
   "cell_type": "code",
   "execution_count": null,
   "metadata": {},
   "outputs": [],
   "source": [
    "import json\n",
    "with open(\"/home/atefe/Desktop/ADM-HW5/dictionary.json\",\"w\") as d:\n",
    "    json.dump(graph,d)"
   ]
  },
  {
   "cell_type": "code",
   "execution_count": 16,
   "metadata": {},
   "outputs": [],
   "source": [
    "import networkx as nx\n",
    "G=nx.DiGraph() "
   ]
  },
  {
   "cell_type": "code",
   "execution_count": 17,
   "metadata": {},
   "outputs": [],
   "source": [
    "#Creating the graph\n",
    "\n",
    "with open(\"wiki-topcats-reduced.txt\") as f:\n",
    "    for line in f:\n",
    "        list1 = line.strip().split(\"\\t\")\n",
    "        G.add_node(list1[0])\n",
    "        G.add_edge(list1[0],list1[1])"
   ]
  },
  {
   "cell_type": "code",
   "execution_count": 18,
   "metadata": {},
   "outputs": [],
   "source": [
    "### adding attribute 'Category' to each node of the graph\n",
    "\n",
    "for i in G:\n",
    "    G.node[i]['Category']=[]\n",
    "    \n",
    "from collections import defaultdict\n",
    "category_dict = defaultdict()\n",
    "\n",
    "with open(\"wiki-topcats-categories.txt\", \"r\") as f:\n",
    "    lst2=G.nodes()\n",
    "    for line in f:\n",
    "        cat_list = line.strip().split(\";\")\n",
    "        category = cat_list[0][9:]\n",
    "        lst = cat_list[1].strip().split(\" \")\n",
    "        if len(lst) > 3500:   \n",
    "            \n",
    "            lst1=[el for el in lst if el in lst2]\n",
    "            category_dict[category] = lst1\n",
    "\n",
    "#Assign attributes to each node\n",
    "for cat in category_dict:\n",
    "    lst=category_dict[cat]\n",
    "    for e in lst:\n",
    "        if e in G:\n",
    "            G.node[e]['Category'].append(cat)"
   ]
  },
  {
   "cell_type": "code",
   "execution_count": 42,
   "metadata": {},
   "outputs": [
    {
     "data": {
      "text/plain": [
       "['Living_people']"
      ]
     },
     "execution_count": 42,
     "metadata": {},
     "output_type": "execute_result"
    }
   ],
   "source": [
    "G.node['52']['Category']"
   ]
  },
  {
   "cell_type": "code",
   "execution_count": null,
   "metadata": {},
   "outputs": [],
   "source": [
    "import json\n",
    "with open(\"category_dict.json\",\"w\") as d:\n",
    "    json.dump(category_dict,d)"
   ]
  },
  {
   "cell_type": "code",
   "execution_count": 10,
   "metadata": {},
   "outputs": [],
   "source": [
    "import json\n",
    "with open(\"category_dict.json\",\"r\") as d:\n",
    "    category_dict = json.load(d)"
   ]
  },
  {
   "cell_type": "code",
   "execution_count": 4,
   "metadata": {},
   "outputs": [],
   "source": [
    "category_list = list(category_dict.keys())"
   ]
  },
  {
   "cell_type": "code",
   "execution_count": null,
   "metadata": {},
   "outputs": [],
   "source": [
    "'''category_list = list(category_dict.keys())\n",
    "\n",
    "import random\n",
    "n = random.randint(0, len(category_list))\n",
    "\n",
    "input_category = category_list[n] \n",
    "auxiliary_list = category_list\n",
    "auxiliary_list.remove(input_category)\n",
    "#for stringa in aux_list:\n",
    "    #Bfs(category_list[n], stringa)\n",
    "target_category = auxiliary_list[random.randint(0, len(auxiliary_list))]'''"
   ]
  },
  {
   "cell_type": "code",
   "execution_count": 14,
   "metadata": {},
   "outputs": [],
   "source": [
    "#target_category='Living_people'\n",
    "#target_category1='Major_League_Baseball_pitchers'"
   ]
  },
  {
   "cell_type": "code",
   "execution_count": 57,
   "metadata": {},
   "outputs": [],
   "source": [
    "input_category='Indian_films'"
   ]
  },
  {
   "cell_type": "code",
   "execution_count": 8,
   "metadata": {},
   "outputs": [
    {
     "data": {
      "text/plain": [
       "35"
      ]
     },
     "execution_count": 8,
     "metadata": {},
     "output_type": "execute_result"
    }
   ],
   "source": [
    "len(category_dict)"
   ]
  },
  {
   "cell_type": "code",
   "execution_count": null,
   "metadata": {},
   "outputs": [],
   "source": [
    "#from tqdm import tnrange, tqdm_notebook\n",
    "#for i in tnrange(100):\n",
    " #   print(i)"
   ]
  },
  {
   "cell_type": "code",
   "execution_count": 52,
   "metadata": {},
   "outputs": [],
   "source": [
    "from tqdm import tnrange, tqdm_notebook\n",
    "import collections\n",
    "import math\n",
    "import numpy as np\n",
    "from collections import defaultdict\n",
    "from numba import autojit\n",
    "import threading\n",
    "\n",
    "\n",
    "@autojit\n",
    "def distance(G, C0, C1):\n",
    "   \n",
    "    c0 = category_dict[C0][0:50]\n",
    "    #c1 = set(category_dict[C1])\n",
    "    #c1 = c1.difference(c0)\n",
    "    #value=len(c0)\n",
    "    #c0 = list(c0)\n",
    "    #c1 = list(c1)\n",
    "    #with tqdm(total=value) as pbar:\n",
    "    shortest_paths = list()\n",
    "    for i in tnrange(len(c0)):\n",
    "        \n",
    "    #for i in range(len(c0)):\n",
    "        root=c0[i]\n",
    "        #pbar.write(\"proccesed: %d\"  %c0)\n",
    "        #pbar.update(1)\n",
    "        step = 0\n",
    "        seen=set([root])\n",
    "        queue=collections.deque([(root,step)])\n",
    "        while queue:\n",
    "            vertex=queue.popleft()\n",
    "            \n",
    "            if C1 in G.node[vertex[0]]['Category'] and C0 not in G.node[vertex[0]]['Category']:\n",
    "                    shortest_paths.append(step)    \n",
    "            neighbors1 = list(G[vertex[0]])\n",
    "            \n",
    "            step=vertex[1]+1\n",
    "            if neighbors1 == []:\n",
    "                continue\n",
    "              \n",
    "            \n",
    "            for i in neighbors1:\n",
    "                if i not in seen:\n",
    "                    queue.append((i,step))                    \n",
    "                    seen.add(i)\n",
    "            \n",
    "    array = np.array(sorted(shortest_paths))\n",
    "    m = np.median(array)\n",
    "    return (C1, m)\n"
   ]
  },
  {
   "cell_type": "code",
   "execution_count": null,
   "metadata": {},
   "outputs": [],
   "source": [
    "import math\n",
    "for key in sp:\n",
    "    l = len(sp[key])\n",
    "    il = 20#len(category_dict[input_category])\n",
    "    if l == il:\n",
    "        continue\n",
    "    else:\n",
    "        diff = abs(il - l)\n",
    "        aux_l = [math.inf for i in range(diff)]\n",
    "        sp[key] = sp[key] + aux_l"
   ]
  },
  {
   "cell_type": "code",
   "execution_count": null,
   "metadata": {},
   "outputs": [],
   "source": []
  },
  {
   "cell_type": "code",
   "execution_count": null,
   "metadata": {},
   "outputs": [],
   "source": []
  },
  {
   "cell_type": "code",
   "execution_count": 45,
   "metadata": {},
   "outputs": [
    {
     "data": {
      "application/vnd.jupyter.widget-view+json": {
       "model_id": "0a70dd38fa2f4d8bb9435ab484659547",
       "version_major": 2,
       "version_minor": 0
      },
      "text/plain": [
       "HBox(children=(IntProgress(value=0, max=2536), HTML(value='')))"
      ]
     },
     "metadata": {},
     "output_type": "display_data"
    }
   ],
   "source": [
    "#d=distance(G, input_category, target_category)"
   ]
  },
  {
   "cell_type": "code",
   "execution_count": 79,
   "metadata": {},
   "outputs": [],
   "source": [
    "from tqdm import tnrange, tqdm_notebook\n",
    "import collections\n",
    "import math\n",
    "import numpy as np\n",
    "from collections import defaultdict\n",
    "from numba import autojit\n",
    "import threading\n",
    "\n",
    "\n",
    "#@autojit\n",
    "def distance_graph(G, C0, C1):\n",
    "   \n",
    "    c0 = category_dict[C0][0:20]\n",
    "\n",
    "    #with tqdm(total=value) as pbar:\n",
    "    shortest_paths_1 = list()\n",
    "    shortest_paths_2 = list()\n",
    "    shortest_paths_3 = list()\n",
    "    shortest_paths_4 = list()\n",
    "\n",
    "    for i in tnrange(len(c0)):\n",
    "        \n",
    "    #for i in range(len(c0)):\n",
    "        root=c0[i]\n",
    "        #pbar.write(\"proccesed: %d\"  %c0)\n",
    "        #pbar.update(1)\n",
    "        step = 0\n",
    "        seen=set([root])\n",
    "        queue=collections.deque([(root,step)])\n",
    "        while queue:\n",
    "            vertex=queue.popleft()\n",
    "            \n",
    "            \n",
    "            if C1[0] in G.node[vertex[0]]['Category'] and C0 not in G.node[vertex[0]]['Category']:\n",
    "                    shortest_paths_1.append(step)\n",
    "                 \n",
    "            elif C1[1] in G.node[vertex[0]]['Category'] and C0 not in G.node[vertex[0]]['Category']:\n",
    "                    shortest_paths_2.append(step)\n",
    "                   \n",
    "            \n",
    "            elif C1[2] in G.node[vertex[0]]['Category'] and C0 not in G.node[vertex[0]]['Category']:\n",
    "                    shortest_paths_3.append(step)\n",
    "                  \n",
    "            elif C1[3] in G.node[vertex[0]]['Category'] and C0 not in G.node[vertex[0]]['Category']:\n",
    "                    shortest_paths_4.append(step)\n",
    "                    \n",
    "            \n",
    "            neighbors1 = list(G[vertex[0]])\n",
    "            \n",
    "            step=vertex[1]+1\n",
    "            if neighbors1 == []:\n",
    "                continue\n",
    "              \n",
    "            \n",
    "            for i in neighbors1:\n",
    "                if i not in seen:\n",
    "                    queue.append((i,step))                    \n",
    "                    seen.add(i)\n",
    "                    \n",
    "    for i in range(len(C1)):\n",
    "        lc = len(category_dict[C1[i]])\n",
    "        \n",
    "        if len(eval('shortest_paths_%d'% (i+1))) != lc:\n",
    "            \n",
    "            diff = abs(len(eval('shortest_paths_%d'% (i+1))) - lc*len(c0))\n",
    "            #print(lc, diff, len(eval('shortest_paths_%d'% (i+1))))\n",
    "            aux_l = [math.inf for i in range(diff)]\n",
    "            eval(\"shortest_paths_{}\".format(i+1)).extend(aux_l)\n",
    "    \n",
    "    return [(C1[0], np.median(np.array(sorted(shortest_paths_1)))), (C1[1], np.median(np.array(sorted(shortest_paths_2)))),\n",
    "           (C1[2], np.median(np.array(sorted(shortest_paths_3)))), (C1[3], np.median(np.array(sorted(shortest_paths_4))))]"
   ]
  },
  {
   "cell_type": "code",
   "execution_count": 263,
   "metadata": {
    "scrolled": true
   },
   "outputs": [
    {
     "data": {
      "application/vnd.jupyter.widget-view+json": {
       "model_id": "bb7764b297c140fb9a5393e15ffcdd62",
       "version_major": 2,
       "version_minor": 0
      },
      "text/plain": [
       "HBox(children=(IntProgress(value=0), HTML(value='')))"
      ]
     },
     "metadata": {},
     "output_type": "display_data"
    }
   ],
   "source": [
    "ci = distance_graph(G, input_category,lst[1])"
   ]
  },
  {
   "cell_type": "code",
   "execution_count": 58,
   "metadata": {},
   "outputs": [],
   "source": [
    "auxiliary_list = list(category_dict.keys())\n",
    "auxiliary_list.remove(input_category)\n",
    "i=0\n",
    "lst=[]\n",
    "while i < 16:\n",
    "    lst.append(auxiliary_list[i:i+4])\n",
    "    i+=4"
   ]
  },
  {
   "cell_type": "code",
   "execution_count": 75,
   "metadata": {},
   "outputs": [],
   "source": [
    "i=16"
   ]
  },
  {
   "cell_type": "code",
   "execution_count": 76,
   "metadata": {},
   "outputs": [],
   "source": [
    "lst_2=[]\n",
    "while i<32:\n",
    "    lst_2.append(auxiliary_list[i:i+4])\n",
    "    i+=4"
   ]
  },
  {
   "cell_type": "code",
   "execution_count": 77,
   "metadata": {},
   "outputs": [
    {
     "data": {
      "text/plain": [
       "[['Asteroids_named_for_people',\n",
       "  'English-language_albums',\n",
       "  'English_television_actors',\n",
       "  'British_films'],\n",
       " ['English-language_films',\n",
       "  'American_films',\n",
       "  'Fellows_of_the_Royal_Society',\n",
       "  'People_from_New_York_City'],\n",
       " ['American_Jews',\n",
       "  'American_television_actors',\n",
       "  'American_film_actors',\n",
       "  'Debut_albums'],\n",
       " ['Black-and-white_films',\n",
       "  'Year_of_birth_missing',\n",
       "  'Place_of_birth_missing_(living_people)',\n",
       "  'Article_Feedback_Pilot']]"
      ]
     },
     "execution_count": 77,
     "metadata": {},
     "output_type": "execute_result"
    }
   ],
   "source": [
    "lst_2"
   ]
  },
  {
   "cell_type": "code",
   "execution_count": null,
   "metadata": {},
   "outputs": [],
   "source": []
  },
  {
   "cell_type": "code",
   "execution_count": 63,
   "metadata": {},
   "outputs": [],
   "source": [
    "res_list = []\n",
    "def threadGraph(lst):\n",
    "    res_list.append(distance_graph(G,input_category, lst))"
   ]
  },
  {
   "cell_type": "code",
   "execution_count": 64,
   "metadata": {},
   "outputs": [
    {
     "data": {
      "application/vnd.jupyter.widget-view+json": {
       "model_id": "36f45fdbe4bc4bbe82d813d0f184821a",
       "version_major": 2,
       "version_minor": 0
      },
      "text/plain": [
       "HBox(children=(IntProgress(value=0, max=200), HTML(value='')))"
      ]
     },
     "metadata": {},
     "output_type": "display_data"
    },
    {
     "data": {
      "application/vnd.jupyter.widget-view+json": {
       "model_id": "da6a888774ca4091a283a1949c493d61",
       "version_major": 2,
       "version_minor": 0
      },
      "text/plain": [
       "HBox(children=(IntProgress(value=0, max=200), HTML(value='')))"
      ]
     },
     "metadata": {},
     "output_type": "display_data"
    },
    {
     "data": {
      "application/vnd.jupyter.widget-view+json": {
       "model_id": "5c20793c3994460693c9a35c06f7f84f",
       "version_major": 2,
       "version_minor": 0
      },
      "text/plain": [
       "HBox(children=(IntProgress(value=0, max=200), HTML(value='')))"
      ]
     },
     "metadata": {},
     "output_type": "display_data"
    },
    {
     "data": {
      "application/vnd.jupyter.widget-view+json": {
       "model_id": "e258fc0679494d1caa50b5b98de27cc1",
       "version_major": 2,
       "version_minor": 0
      },
      "text/plain": [
       "HBox(children=(IntProgress(value=0, max=200), HTML(value='')))"
      ]
     },
     "metadata": {},
     "output_type": "display_data"
    },
    {
     "name": "stdout",
     "output_type": "stream",
     "text": [
      "\n",
      "\n"
     ]
    }
   ],
   "source": [
    "threads = []\n",
    "for a in range(4):\n",
    "    t = threading.Thread(name = a, target = threadGraph,\n",
    "                       args = [lst[a]])\n",
    "    \n",
    "    threads.append(t)\n",
    "    t.start()"
   ]
  },
  {
   "cell_type": "code",
   "execution_count": 80,
   "metadata": {},
   "outputs": [],
   "source": [
    "res_list1 = []\n",
    "def threadGraph1(lst):\n",
    "    res_list1.append(distance_graph(G,input_category, lst))"
   ]
  },
  {
   "cell_type": "code",
   "execution_count": 81,
   "metadata": {},
   "outputs": [
    {
     "data": {
      "application/vnd.jupyter.widget-view+json": {
       "model_id": "28e5c5529f0b4e0ba825b8f9fd9244f3",
       "version_major": 2,
       "version_minor": 0
      },
      "text/plain": [
       "HBox(children=(IntProgress(value=0, max=20), HTML(value='')))"
      ]
     },
     "metadata": {},
     "output_type": "display_data"
    },
    {
     "data": {
      "application/vnd.jupyter.widget-view+json": {
       "model_id": "b43c6ba142ec407b94cdc2253089f9fc",
       "version_major": 2,
       "version_minor": 0
      },
      "text/plain": [
       "HBox(children=(IntProgress(value=0, max=20), HTML(value='')))"
      ]
     },
     "metadata": {},
     "output_type": "display_data"
    },
    {
     "data": {
      "application/vnd.jupyter.widget-view+json": {
       "model_id": "eb4949876a4e4f5e9785dc14f1d58474",
       "version_major": 2,
       "version_minor": 0
      },
      "text/plain": [
       "HBox(children=(IntProgress(value=0, max=20), HTML(value='')))"
      ]
     },
     "metadata": {},
     "output_type": "display_data"
    },
    {
     "data": {
      "application/vnd.jupyter.widget-view+json": {
       "model_id": "da76bce651154fb4ae20818c7ea4340f",
       "version_major": 2,
       "version_minor": 0
      },
      "text/plain": [
       "HBox(children=(IntProgress(value=0, max=20), HTML(value='')))"
      ]
     },
     "metadata": {},
     "output_type": "display_data"
    },
    {
     "name": "stdout",
     "output_type": "stream",
     "text": [
      "\n",
      "\n"
     ]
    }
   ],
   "source": [
    "threads = []\n",
    "for a in range(4):\n",
    "    t = threading.Thread(name = a, target = threadGraph1,\n",
    "                       args = [lst_2[a]])\n",
    "    \n",
    "    threads.append(t)\n",
    "    t.start()"
   ]
  },
  {
   "cell_type": "code",
   "execution_count": 82,
   "metadata": {},
   "outputs": [
    {
     "data": {
      "text/plain": [
       "[[('Asteroids_named_for_people', inf),\n",
       "  ('English-language_albums', 8.0),\n",
       "  ('English_television_actors', 7.0),\n",
       "  ('British_films', 7.0)],\n",
       " [('English-language_films', 7.0),\n",
       "  ('American_films', inf),\n",
       "  ('Fellows_of_the_Royal_Society', 9.0),\n",
       "  ('People_from_New_York_City', 8.0)],\n",
       " [('American_Jews', 7.0),\n",
       "  ('American_television_actors', 7.0),\n",
       "  ('American_film_actors', inf),\n",
       "  ('Debut_albums', 8.0)],\n",
       " [('Black-and-white_films', 7.0),\n",
       "  ('Year_of_birth_missing', inf),\n",
       "  ('Place_of_birth_missing_(living_people)', 9.0),\n",
       "  ('Article_Feedback_Pilot', 7.0)]]"
      ]
     },
     "execution_count": 82,
     "metadata": {},
     "output_type": "execute_result"
    }
   ],
   "source": [
    "res_list1"
   ]
  },
  {
   "cell_type": "code",
   "execution_count": null,
   "metadata": {},
   "outputs": [],
   "source": [
    "#second part of category_list but the input list\n",
    "i=0\n",
    "lst_2=[]\n",
    "while i < 16:\n",
    "    lst_2.append(auxiliary_list[i:i+4])\n",
    "    i+=4"
   ]
  },
  {
   "cell_type": "code",
   "execution_count": null,
   "metadata": {},
   "outputs": [],
   "source": [
    "threads = []\n",
    "for a in range(4):\n",
    "    t = threading.Thread(name = a, target = threadGraph,\n",
    "                       args = [lst_2[a]])    \n",
    "    threads.append(t)\n",
    "    t.start()"
   ]
  },
  {
   "cell_type": "code",
   "execution_count": null,
   "metadata": {},
   "outputs": [],
   "source": [
    "#da runnare, carefully\n",
    "#res_list.append(distance(G,input_category, auxiliary_list[33]))\n",
    "#res_list.append(distance(G,input_category, auxiliary_list[34]))"
   ]
  },
  {
   "cell_type": "code",
   "execution_count": null,
   "metadata": {},
   "outputs": [],
   "source": []
  },
  {
   "cell_type": "code",
   "execution_count": null,
   "metadata": {},
   "outputs": [],
   "source": []
  },
  {
   "cell_type": "code",
   "execution_count": 159,
   "metadata": {},
   "outputs": [],
   "source": [
    "ms = []\n",
    "for lst in res_list:    \n",
    "    v = np.median(np.array(sorted(lst)))\n",
    "    ms.append(v)"
   ]
  },
  {
   "cell_type": "code",
   "execution_count": 160,
   "metadata": {},
   "outputs": [
    {
     "data": {
      "text/plain": [
       "[8.0, 8.0, 7.0, 8.0]"
      ]
     },
     "execution_count": 160,
     "metadata": {},
     "output_type": "execute_result"
    }
   ],
   "source": [
    "ms"
   ]
  },
  {
   "cell_type": "code",
   "execution_count": 157,
   "metadata": {},
   "outputs": [
    {
     "data": {
      "text/plain": [
       "4"
      ]
     },
     "execution_count": 157,
     "metadata": {},
     "output_type": "execute_result"
    }
   ],
   "source": [
    "len(res_list)"
   ]
  },
  {
   "cell_type": "code",
   "execution_count": null,
   "metadata": {},
   "outputs": [],
   "source": [
    "c1 = category_dict[target_category]"
   ]
  },
  {
   "cell_type": "code",
   "execution_count": null,
   "metadata": {},
   "outputs": [],
   "source": []
  },
  {
   "cell_type": "code",
   "execution_count": null,
   "metadata": {},
   "outputs": [],
   "source": []
  },
  {
   "cell_type": "code",
   "execution_count": null,
   "metadata": {},
   "outputs": [],
   "source": []
  },
  {
   "cell_type": "code",
   "execution_count": null,
   "metadata": {},
   "outputs": [],
   "source": []
  },
  {
   "cell_type": "code",
   "execution_count": null,
   "metadata": {},
   "outputs": [],
   "source": [
    "tupla = bfs(G, 'Year_of_death_missing','English_footballers')"
   ]
  },
  {
   "cell_type": "code",
   "execution_count": null,
   "metadata": {},
   "outputs": [],
   "source": [
    "np.median(tupla)"
   ]
  },
  {
   "cell_type": "code",
   "execution_count": null,
   "metadata": {},
   "outputs": [],
   "source": [
    "tupla[49]"
   ]
  },
  {
   "cell_type": "code",
   "execution_count": null,
   "metadata": {},
   "outputs": [],
   "source": [
    "%reset"
   ]
  },
  {
   "cell_type": "code",
   "execution_count": null,
   "metadata": {},
   "outputs": [],
   "source": [
    "h = []\n",
    "shortpath=list()\n",
    "for a0 in category_dict['English_footballers']:\n",
    "    \n",
    "    for a1 in category_dict['The_Football_League_players']:\n",
    "        shortpath.append(Bfs(G,a0,a1))\n",
    "    m = np.median\n",
    "    h.heapqpush((m, ( cat2)))"
   ]
  },
  {
   "cell_type": "code",
   "execution_count": null,
   "metadata": {},
   "outputs": [],
   "source": [
    "list(G['22860'].keys()"
   ]
  },
  {
   "cell_type": "code",
   "execution_count": null,
   "metadata": {},
   "outputs": [],
   "source": [
    "category_dict['The_Football_League_players'][0]"
   ]
  },
  {
   "cell_type": "code",
   "execution_count": null,
   "metadata": {},
   "outputs": [],
   "source": [
    "category_dict['English_footballers'][]"
   ]
  },
  {
   "cell_type": "code",
   "execution_count": null,
   "metadata": {},
   "outputs": [],
   "source": [
    "G.node['52']['Category']"
   ]
  },
  {
   "cell_type": "code",
   "execution_count": null,
   "metadata": {},
   "outputs": [],
   "source": [
    "G.out_edges('52')"
   ]
  },
  {
   "cell_type": "code",
   "execution_count": null,
   "metadata": {},
   "outputs": [],
   "source": [
    "for e in G.out_edges('52'):\n",
    "    print(e[1])"
   ]
  },
  {
   "cell_type": "code",
   "execution_count": null,
   "metadata": {},
   "outputs": [],
   "source": [
    "'''\n",
    "import collections\n",
    "import math\n",
    "def bfs(G,root,destination):\n",
    "    step=0\n",
    "    seen=set([root])\n",
    "    queue=collections.deque([(root,step)])\n",
    "    while queue:\n",
    "        vertex=queue.popleft()\n",
    "        if vertex==destination:\n",
    "            return vertex[1]\n",
    "        else:\n",
    "            step=vertex[1]+1\n",
    "            neighbors=list(G[vertex[0]].keys())\n",
    "            if neighbors==[]:\n",
    "                continue\n",
    "            if destination in neighbors:\n",
    "                return step\n",
    "            for i in neighbors:\n",
    "                if i not in seen:\n",
    "                    queue.append((i,step))                    \n",
    "                    seen.add(i)\n",
    "    return(math.inf)\n",
    "'''"
   ]
  },
  {
   "cell_type": "code",
   "execution_count": null,
   "metadata": {},
   "outputs": [],
   "source": [
    "'''\n",
    "import collections\n",
    "import math\n",
    "import numpy as np\n",
    "\n",
    "def bfs(G,C0,C1):\n",
    "    global category_dict \n",
    "    lst = []\n",
    "    c0 = category_dict[C0][0:10]\n",
    "    #c1 = category_dict[C1][0:10]\n",
    "\n",
    "    for root in c0:\n",
    "        \n",
    "        for destination in c1:\n",
    "            \n",
    "            step=0\n",
    "            seen=set([root])\n",
    "            queue=collections.deque([(root,step)])\n",
    "            \n",
    "            while queue:\n",
    "                vertex=queue.popleft()\n",
    "                if vertex==destination:\n",
    "                    lst.append(vertex[1])\n",
    "                    break\n",
    "                else:\n",
    "                    step=vertex[1]+1\n",
    "                    neighbors=list(G[vertex[0]].keys())\n",
    "                    if neighbors==[]:\n",
    "                        continue\n",
    "                    if destination in neighbors:\n",
    "                        lst.append(step)\n",
    "                        break\n",
    "            \n",
    "                    for i in neighbors:\n",
    "                        if i not in seen:\n",
    "                            queue.append((i,step))                    \n",
    "                            seen.add(i)\n",
    "            else:\n",
    "                lst.append(math.inf)\n",
    "                \n",
    "    array = np.array(sorted(lst))   \n",
    "    return (C0, C1, np.median(array))\n",
    "'''"
   ]
  }
 ],
 "metadata": {
  "kernelspec": {
   "display_name": "Python 3",
   "language": "python",
   "name": "python3"
  },
  "language_info": {
   "codemirror_mode": {
    "name": "ipython",
    "version": 3
   },
   "file_extension": ".py",
   "mimetype": "text/x-python",
   "name": "python",
   "nbconvert_exporter": "python",
   "pygments_lexer": "ipython3",
   "version": "3.7.0"
  }
 },
 "nbformat": 4,
 "nbformat_minor": 2
}
