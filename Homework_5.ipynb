{
 "cells": [
  {
   "cell_type": "code",
   "execution_count": 1,
   "metadata": {},
   "outputs": [],
   "source": [
    "from tqdm import tnrange, tqdm_notebook\n",
    "import collections\n",
    "import math\n",
    "import numpy as np\n",
    "from collections import defaultdict\n",
    "import threading\n",
    "import functions as f\n",
    "import networkx as nx\n",
    "import pandas as pd"
   ]
  },
  {
   "cell_type": "code",
   "execution_count": 44,
   "metadata": {},
   "outputs": [],
   "source": [
    "graph = f.graph_dict()"
   ]
  },
  {
   "cell_type": "code",
   "execution_count": 46,
   "metadata": {},
   "outputs": [
    {
     "data": {
      "text/plain": [
       "['401135', '1069112', '1163551']"
      ]
     },
     "execution_count": 46,
     "metadata": {},
     "output_type": "execute_result"
    }
   ],
   "source": [
    "graph['52']"
   ]
  },
  {
   "cell_type": "code",
   "execution_count": 47,
   "metadata": {
    "scrolled": true
   },
   "outputs": [
    {
     "name": "stdout",
     "output_type": "stream",
     "text": [
      "['1060396', '1061304', '1062611', '1066969', '1069008', '1069113', '1069258', '1069275', '1656982']\n"
     ]
    }
   ],
   "source": [
    "print(graph['1069112'])"
   ]
  },
  {
   "cell_type": "markdown",
   "metadata": {},
   "source": [
    "#### The graph is not undirected because the node 52 has edge with 1099112 and the reverse is not true"
   ]
  },
  {
   "cell_type": "code",
   "execution_count": 3,
   "metadata": {},
   "outputs": [],
   "source": [
    "#We want to figure out the edges of the graph\n",
    "edges = []\n",
    "for e in graph:\n",
    "    a = graph[e]\n",
    "    for i in range(len(a)):\n",
    "        edges.append(a[i])"
   ]
  },
  {
   "cell_type": "code",
   "execution_count": 4,
   "metadata": {},
   "outputs": [
    {
     "data": {
      "text/plain": [
       "2645247"
      ]
     },
     "execution_count": 4,
     "metadata": {},
     "output_type": "execute_result"
    }
   ],
   "source": [
    "len(edges) #2645247"
   ]
  },
  {
   "cell_type": "code",
   "execution_count": 5,
   "metadata": {},
   "outputs": [
    {
     "data": {
      "text/plain": [
       "428957"
      ]
     },
     "execution_count": 5,
     "metadata": {},
     "output_type": "execute_result"
    }
   ],
   "source": [
    "len(graph.keys())\n",
    "#FOR SURE DIRECTED GRAPH"
   ]
  },
  {
   "cell_type": "code",
   "execution_count": 9,
   "metadata": {},
   "outputs": [],
   "source": [
    "list1= list()\n",
    "with open(\"wiki-topcats-reduced.txt\") as f:\n",
    "        for line in f:\n",
    "            list1.append(line.strip().split(\"\\t\"))"
   ]
  },
  {
   "cell_type": "code",
   "execution_count": 10,
   "metadata": {},
   "outputs": [],
   "source": [
    "#We want to figure out the nodes of the graph\n",
    "nodes = []\n",
    "for e in list1:\n",
    "    nodes.append(e[0])\n",
    "    nodes.append(e[1])\n",
    "nodes=set(nodes)"
   ]
  },
  {
   "cell_type": "code",
   "execution_count": 11,
   "metadata": {},
   "outputs": [
    {
     "data": {
      "text/plain": [
       "461193"
      ]
     },
     "execution_count": 11,
     "metadata": {},
     "output_type": "execute_result"
    }
   ],
   "source": [
    "len(nodes) #461193"
   ]
  },
  {
   "cell_type": "code",
   "execution_count": 12,
   "metadata": {},
   "outputs": [],
   "source": [
    "#Average Node Degree\n",
    "count = 0\n",
    "for lst in graph.values():\n",
    "    count += len(lst)\n",
    "avgNodeDegree = count/len(graph.keys())"
   ]
  },
  {
   "cell_type": "code",
   "execution_count": 13,
   "metadata": {},
   "outputs": [
    {
     "data": {
      "text/plain": [
       "6.1666950300379755"
      ]
     },
     "execution_count": 13,
     "metadata": {},
     "output_type": "execute_result"
    }
   ],
   "source": [
    "avgNodeDegree"
   ]
  },
  {
   "cell_type": "code",
   "execution_count": 14,
   "metadata": {},
   "outputs": [
    {
     "data": {
      "text/plain": [
       "1.2436602635647606e-05"
      ]
     },
     "execution_count": 14,
     "metadata": {},
     "output_type": "execute_result"
    }
   ],
   "source": [
    "#Density\n",
    "dense = len(edges)/(len(nodes)*(len(nodes)-1))\n",
    "dense"
   ]
  },
  {
   "cell_type": "markdown",
   "metadata": {},
   "source": [
    "## Distance-Rank"
   ]
  },
  {
   "cell_type": "code",
   "execution_count": 2,
   "metadata": {},
   "outputs": [],
   "source": [
    "G, category_dict=f.create_graph_and_dict()\n",
    "category_list = list(category_dict.keys())\n",
    "input_category='Indian_films'"
   ]
  },
  {
   "cell_type": "code",
   "execution_count": 8,
   "metadata": {},
   "outputs": [],
   "source": [
    "# Below created the list of lists for the first 16 categories \n",
    "auxiliary_list = list(category_dict.keys())\n",
    "auxiliary_list.remove(input_category)\n",
    "i=0\n",
    "lst=[]\n",
    "while i < 16:\n",
    "    lst.append(auxiliary_list[i:i+4])\n",
    "    i+=4\n",
    "\n",
    "#this is the next list\n",
    "lst_2=[]\n",
    "while i<32:\n",
    "    lst_2.append(auxiliary_list[i:i+4])\n",
    "    i+=4"
   ]
  },
  {
   "cell_type": "markdown",
   "metadata": {},
   "source": [
    "\n",
    "#### Threads\n",
    "#### Below multi-threading is used to facilitate the execution of the BFS algorithm, in order to find the distances between the category that we chosen and the others. \n",
    "#### As the input was too large for BFS function . Multithreading has been used for running the same method for different categories at the same time, in order to obtain fast result instead of run each time the method for one category. Four threads are created to access to the BFS function.  Each time that the function is called it computes four categories (we decided this number for avoiding the Memory Error and to overload too much each thread.) The same for the procedure used for calling threads: we decided to call four thread per procedure for the same reason. \n",
    "\n",
    "#### res list was the resources that keep all the output of threads. As soon as the thread finished, the res list has been updated.\n",
    " \n"
   ]
  },
  {
   "cell_type": "code",
   "execution_count": 5,
   "metadata": {},
   "outputs": [
    {
     "name": "stdout",
     "output_type": "stream",
     "text": [
      "\n"
     ]
    }
   ],
   "source": [
    "res_list = []\n",
    "def threadGraph(lst):\n",
    "    res_list.append(f.distance_graph(G,input_category, lst,category_dict))\n",
    "\n",
    "threads = []\n",
    "#four threads are created here\n",
    "for a in range(4):\n",
    "    t = threading.Thread(name = a, target = threadGraph,\n",
    "                       args = [lst[a]])\n",
    "    \n",
    "    threads.append(t)\n",
    "    t.start()\n",
    "Graphdf=pd.DataFrame()\n",
    "for i in res_list1:\n",
    "    Graphdf1=pd.DataFrame(i)\n",
    "    Graphdf=Graphdf.append(Graphdf1)\n",
    "Graphdf.to_csv(\"Graph1.csv\",index=False)"
   ]
  },
  {
   "cell_type": "code",
   "execution_count": 36,
   "metadata": {},
   "outputs": [
    {
     "data": {
      "text/html": [
       "<div>\n",
       "<style scoped>\n",
       "    .dataframe tbody tr th:only-of-type {\n",
       "        vertical-align: middle;\n",
       "    }\n",
       "\n",
       "    .dataframe tbody tr th {\n",
       "        vertical-align: top;\n",
       "    }\n",
       "\n",
       "    .dataframe thead th {\n",
       "        text-align: right;\n",
       "    }\n",
       "</style>\n",
       "<table border=\"1\" class=\"dataframe\">\n",
       "  <thead>\n",
       "    <tr style=\"text-align: right;\">\n",
       "      <th></th>\n",
       "      <th>0</th>\n",
       "      <th>1</th>\n",
       "    </tr>\n",
       "  </thead>\n",
       "  <tbody>\n",
       "    <tr>\n",
       "      <th>0</th>\n",
       "      <td>English-language_films</td>\n",
       "      <td>6.000000</td>\n",
       "    </tr>\n",
       "    <tr>\n",
       "      <th>1</th>\n",
       "      <td>American_films</td>\n",
       "      <td>inf</td>\n",
       "    </tr>\n",
       "    <tr>\n",
       "      <th>2</th>\n",
       "      <td>Fellows_of_the_Royal_Society</td>\n",
       "      <td>8.000000</td>\n",
       "    </tr>\n",
       "    <tr>\n",
       "      <th>3</th>\n",
       "      <td>People_from_New_York_City</td>\n",
       "      <td>7.000000</td>\n",
       "    </tr>\n",
       "    <tr>\n",
       "      <th>0</th>\n",
       "      <td>Black-and-white_films</td>\n",
       "      <td>7.000000</td>\n",
       "    </tr>\n",
       "    <tr>\n",
       "      <th>1</th>\n",
       "      <td>Year_of_birth_missing</td>\n",
       "      <td>inf</td>\n",
       "    </tr>\n",
       "    <tr>\n",
       "      <th>2</th>\n",
       "      <td>Place_of_birth_missing_(living_people)</td>\n",
       "      <td>8.000000</td>\n",
       "    </tr>\n",
       "    <tr>\n",
       "      <th>3</th>\n",
       "      <td>Article_Feedback_Pilot</td>\n",
       "      <td>6.000000</td>\n",
       "    </tr>\n",
       "    <tr>\n",
       "      <th>0</th>\n",
       "      <td>Asteroids_named_for_people</td>\n",
       "      <td>inf</td>\n",
       "    </tr>\n",
       "    <tr>\n",
       "      <th>1</th>\n",
       "      <td>English-language_albums</td>\n",
       "      <td>7.000000</td>\n",
       "    </tr>\n",
       "    <tr>\n",
       "      <th>2</th>\n",
       "      <td>English_television_actors</td>\n",
       "      <td>6.000000</td>\n",
       "    </tr>\n",
       "    <tr>\n",
       "      <th>3</th>\n",
       "      <td>British_films</td>\n",
       "      <td>6.000000</td>\n",
       "    </tr>\n",
       "    <tr>\n",
       "      <th>0</th>\n",
       "      <td>American_Jews</td>\n",
       "      <td>7.000000</td>\n",
       "    </tr>\n",
       "    <tr>\n",
       "      <th>1</th>\n",
       "      <td>American_television_actors</td>\n",
       "      <td>6.000000</td>\n",
       "    </tr>\n",
       "    <tr>\n",
       "      <th>2</th>\n",
       "      <td>American_film_actors</td>\n",
       "      <td>inf</td>\n",
       "    </tr>\n",
       "    <tr>\n",
       "      <th>3</th>\n",
       "      <td>Debut_albums</td>\n",
       "      <td>7.000000</td>\n",
       "    </tr>\n",
       "  </tbody>\n",
       "</table>\n",
       "</div>"
      ],
      "text/plain": [
       "                                        0         1\n",
       "0                  English-language_films  6.000000\n",
       "1                          American_films       inf\n",
       "2            Fellows_of_the_Royal_Society  8.000000\n",
       "3               People_from_New_York_City  7.000000\n",
       "0                   Black-and-white_films  7.000000\n",
       "1                   Year_of_birth_missing       inf\n",
       "2  Place_of_birth_missing_(living_people)  8.000000\n",
       "3                  Article_Feedback_Pilot  6.000000\n",
       "0              Asteroids_named_for_people       inf\n",
       "1                 English-language_albums  7.000000\n",
       "2               English_television_actors  6.000000\n",
       "3                           British_films  6.000000\n",
       "0                           American_Jews  7.000000\n",
       "1              American_television_actors  6.000000\n",
       "2                    American_film_actors       inf\n",
       "3                            Debut_albums  7.000000"
      ]
     },
     "execution_count": 36,
     "metadata": {},
     "output_type": "execute_result"
    }
   ],
   "source": [
    "Graphdf1"
   ]
  },
  {
   "cell_type": "code",
   "execution_count": 10,
   "metadata": {},
   "outputs": [
    {
     "data": {
      "application/vnd.jupyter.widget-view+json": {
       "model_id": "898cd4088854460484d82769af09e5b5",
       "version_major": 2,
       "version_minor": 0
      },
      "text/plain": [
       "HBox(children=(IntProgress(value=0, max=2000), HTML(value='')))"
      ]
     },
     "metadata": {},
     "output_type": "display_data"
    },
    {
     "data": {
      "application/vnd.jupyter.widget-view+json": {
       "model_id": "f8ae0e0aec2f4179995ff8d0d003a6ed",
       "version_major": 2,
       "version_minor": 0
      },
      "text/plain": [
       "HBox(children=(IntProgress(value=0, max=2000), HTML(value='')))"
      ]
     },
     "metadata": {},
     "output_type": "display_data"
    },
    {
     "data": {
      "application/vnd.jupyter.widget-view+json": {
       "model_id": "fcb16e686e844a36b21aa419d2bc9b1e",
       "version_major": 2,
       "version_minor": 0
      },
      "text/plain": [
       "HBox(children=(IntProgress(value=0, max=2000), HTML(value='')))"
      ]
     },
     "metadata": {},
     "output_type": "display_data"
    },
    {
     "data": {
      "application/vnd.jupyter.widget-view+json": {
       "model_id": "561c5cf3cf1d4d2cb7d850a03e1393de",
       "version_major": 2,
       "version_minor": 0
      },
      "text/plain": [
       "HBox(children=(IntProgress(value=0, max=2000), HTML(value='')))"
      ]
     },
     "metadata": {},
     "output_type": "display_data"
    }
   ],
   "source": [
    "res_list1 = []\n",
    "def threadGraph1(lst):\n",
    "    res_list1.append(f.distance_graph(G,input_category, lst,category_dict))\n",
    "\n",
    "threads = []\n",
    "for a in range(4):\n",
    "    t = threading.Thread(name = a, target = threadGraph1,\n",
    "                       args = [lst_2[a]])    \n",
    "    threads.append(t)\n",
    "    t.start()\n",
    "Graphdf=pd.DataFrame()\n",
    "for i in res_list1:\n",
    "    Graphdf1=pd.DataFrame(i)\n",
    "    Graphdf=Graphdf.append(Graphdf1)\n",
    "Graphdf.to_csv(\"Graph2.csv\",index=False)"
   ]
  },
  {
   "cell_type": "code",
   "execution_count": 34,
   "metadata": {},
   "outputs": [
    {
     "data": {
      "text/plain": [
       "[[('English-language_films', 6.0),\n",
       "  ('American_films', inf),\n",
       "  ('Fellows_of_the_Royal_Society', 8.0),\n",
       "  ('People_from_New_York_City', 7.0)],\n",
       " [('Black-and-white_films', 7.0),\n",
       "  ('Year_of_birth_missing', inf),\n",
       "  ('Place_of_birth_missing_(living_people)', 8.0),\n",
       "  ('Article_Feedback_Pilot', 6.0)],\n",
       " [('Asteroids_named_for_people', inf),\n",
       "  ('English-language_albums', 7.0),\n",
       "  ('English_television_actors', 6.0),\n",
       "  ('British_films', 6.0)],\n",
       " [('American_Jews', 7.0),\n",
       "  ('American_television_actors', 6.0),\n",
       "  ('American_film_actors', inf),\n",
       "  ('Debut_albums', 7.0)]]"
      ]
     },
     "execution_count": 34,
     "metadata": {},
     "output_type": "execute_result"
    }
   ],
   "source": [
    "#the result is like below for each category the median shortest path\n",
    "res_list1"
   ]
  },
  {
   "cell_type": "code",
   "execution_count": null,
   "metadata": {},
   "outputs": [
    {
     "data": {
      "application/vnd.jupyter.widget-view+json": {
       "model_id": "955df0191e7b49e3bed7830fecbe0236",
       "version_major": 2,
       "version_minor": 0
      },
      "text/plain": [
       "HBox(children=(IntProgress(value=0, max=2000), HTML(value='')))"
      ]
     },
     "metadata": {},
     "output_type": "display_data"
    }
   ],
   "source": [
    "d=f.distance_graph2(G,input_category,['American_military_personnel_of_World_War_II', 'Windows_games','Indian_films'],category_dict)\n",
    "Graphdf=pd.DataFrame()\n",
    "Graphdf=Graphdf.append(d)\n",
    "Graphdf.to_csv(\"Graph3.csv\",index=False)"
   ]
  },
  {
   "cell_type": "markdown",
   "metadata": {},
   "source": [
    "<span style=\"font-family: Babas; font-size: 1.2em;\">\n",
    " <ul>\n",
    " <li>  We runned the previous algorithm that contains the Search of the Shortest Paths using threads for three times.\n",
    " This was due to the fact that data were big.\n",
    " Input given to the method: graph, input category, list with categories in order to find the shortest paths. \n",
    "</li>\n",
    "    <li>\n",
    "    Because we runned three times in different moments, we saved three lists with the results in this format:\n",
    " (Name of the Category, Rank with the input category with this category);\n",
    " </li>\n",
    "    <li>\n",
    " Thus, we merged all the categories with the ranks together.\n",
    "Below there is the Dataframe related to categories, sorted from the closest one until the furthest one by distance in order to rank categories.\n",
    "    </li>\n",
    "</ul>\n",
    "</span>"
   ]
  },
  {
   "cell_type": "code",
   "execution_count": 8,
   "metadata": {},
   "outputs": [],
   "source": [
    "dfg=pd.read_csv('Graphdf1.csv')\n",
    "dfg1 = pd.read_csv('Graphdf2.csv')\n",
    "dfg2 = pd.read_csv('Graph3.csv')\n",
    "dfg=dfg.reset_index(drop=True)\n",
    "dfg = dfg.rename(columns={\"0\": \"Category\", \"1\": \"Distance\"})\n",
    "dfg = dfg.sort_values(by='Distance')\n",
    "dfg = dfg.reset_index(drop=True)"
   ]
  },
  {
   "cell_type": "code",
   "execution_count": null,
   "metadata": {},
   "outputs": [],
   "source": [
    "dfg.to_csv('ranking_table.csv', index = False)"
   ]
  },
  {
   "cell_type": "code",
   "execution_count": 5,
   "metadata": {},
   "outputs": [],
   "source": [
    "dfg=pd.read_csv('ranking_table.csv')"
   ]
  },
  {
   "cell_type": "code",
   "execution_count": null,
   "metadata": {},
   "outputs": [],
   "source": []
  },
  {
   "cell_type": "markdown",
   "metadata": {},
   "source": [
    "<span style=\"font-family: Babas; font-size: 1.2em;\">\n",
    "\n",
    "Last point: We want to keep an information, score, into each node. First, we initialized every node as a negative value, in order to make a check (if we still didn't pass throught that node it will be still a negative number, but if there are no in edges this information will be 0). \n",
    "\n",
    "This initialization will be done into G, our original graph.\n",
    "\n",
    "</span>"
   ]
  },
  {
   "cell_type": "code",
   "execution_count": 3,
   "metadata": {},
   "outputs": [
    {
     "data": {
      "application/vnd.jupyter.widget-view+json": {
       "model_id": "812a3cb1eaa441fc81a0f61760c40bc2",
       "version_major": 2,
       "version_minor": 0
      },
      "text/plain": [
       "HBox(children=(IntProgress(value=0, max=34), HTML(value='')))"
      ]
     },
     "metadata": {},
     "output_type": "display_data"
    },
    {
     "name": "stdout",
     "output_type": "stream",
     "text": [
      "\n"
     ]
    }
   ],
   "source": [
    "G = f.steps(G,category_dict)"
   ]
  },
  {
   "cell_type": "code",
   "execution_count": null,
   "metadata": {},
   "outputs": [],
   "source": []
  },
  {
   "cell_type": "code",
   "execution_count": 4,
   "metadata": {},
   "outputs": [],
   "source": [
    "from numba import autojit, prange\n",
    "list1 = []\n",
    "@autojit\n",
    "def graphscore(e):\n",
    "    score_dict={}\n",
    "    score_dict['Node']=e\n",
    "    score_dict['Score']=G.node[e]['score']\n",
    "    score_dict['Category']=G.node[e]['Category']\n",
    "\n",
    "    return(score_dict)\n",
    "for e in G:\n",
    "    list1.append(graphscore(e))"
   ]
  },
  {
   "cell_type": "code",
   "execution_count": 5,
   "metadata": {},
   "outputs": [
    {
     "data": {
      "text/html": [
       "<div>\n",
       "<style scoped>\n",
       "    .dataframe tbody tr th:only-of-type {\n",
       "        vertical-align: middle;\n",
       "    }\n",
       "\n",
       "    .dataframe tbody tr th {\n",
       "        vertical-align: top;\n",
       "    }\n",
       "\n",
       "    .dataframe thead th {\n",
       "        text-align: right;\n",
       "    }\n",
       "</style>\n",
       "<table border=\"1\" class=\"dataframe\">\n",
       "  <thead>\n",
       "    <tr style=\"text-align: right;\">\n",
       "      <th></th>\n",
       "      <th>Category</th>\n",
       "      <th>Node</th>\n",
       "      <th>Score</th>\n",
       "    </tr>\n",
       "  </thead>\n",
       "  <tbody>\n",
       "    <tr>\n",
       "      <th>10</th>\n",
       "      <td>American_film_actors</td>\n",
       "      <td>1400636</td>\n",
       "      <td>41796629</td>\n",
       "    </tr>\n",
       "    <tr>\n",
       "      <th>18666</th>\n",
       "      <td>American_film_actors</td>\n",
       "      <td>1025352</td>\n",
       "      <td>30678601</td>\n",
       "    </tr>\n",
       "    <tr>\n",
       "      <th>3057</th>\n",
       "      <td>American_film_actors</td>\n",
       "      <td>1061501</td>\n",
       "      <td>15411107</td>\n",
       "    </tr>\n",
       "    <tr>\n",
       "      <th>47541</th>\n",
       "      <td>American_film_actors</td>\n",
       "      <td>1061504</td>\n",
       "      <td>14183521</td>\n",
       "    </tr>\n",
       "    <tr>\n",
       "      <th>1931</th>\n",
       "      <td>American_film_actors</td>\n",
       "      <td>1181827</td>\n",
       "      <td>14085847</td>\n",
       "    </tr>\n",
       "    <tr>\n",
       "      <th>28889</th>\n",
       "      <td>American_film_actors</td>\n",
       "      <td>1163692</td>\n",
       "      <td>11735038</td>\n",
       "    </tr>\n",
       "    <tr>\n",
       "      <th>105047</th>\n",
       "      <td>Year_of_birth_unknown</td>\n",
       "      <td>339954</td>\n",
       "      <td>11735038</td>\n",
       "    </tr>\n",
       "    <tr>\n",
       "      <th>50420</th>\n",
       "      <td>American_film_actors</td>\n",
       "      <td>1026878</td>\n",
       "      <td>11256315</td>\n",
       "    </tr>\n",
       "    <tr>\n",
       "      <th>4653</th>\n",
       "      <td>American_film_actors</td>\n",
       "      <td>1163630</td>\n",
       "      <td>10227917</td>\n",
       "    </tr>\n",
       "    <tr>\n",
       "      <th>56137</th>\n",
       "      <td>American_film_actors</td>\n",
       "      <td>1061469</td>\n",
       "      <td>9500036</td>\n",
       "    </tr>\n",
       "    <tr>\n",
       "      <th>58437</th>\n",
       "      <td>American_film_actors</td>\n",
       "      <td>1061487</td>\n",
       "      <td>8235162</td>\n",
       "    </tr>\n",
       "    <tr>\n",
       "      <th>13009</th>\n",
       "      <td>American_film_actors</td>\n",
       "      <td>1061422</td>\n",
       "      <td>7385966</td>\n",
       "    </tr>\n",
       "    <tr>\n",
       "      <th>47518</th>\n",
       "      <td>American_film_actors</td>\n",
       "      <td>1061433</td>\n",
       "      <td>7088593</td>\n",
       "    </tr>\n",
       "    <tr>\n",
       "      <th>67507</th>\n",
       "      <td>Year_of_birth_unknown</td>\n",
       "      <td>168194</td>\n",
       "      <td>7015228</td>\n",
       "    </tr>\n",
       "    <tr>\n",
       "      <th>15203</th>\n",
       "      <td>American_film_actors</td>\n",
       "      <td>1061430</td>\n",
       "      <td>7015061</td>\n",
       "    </tr>\n",
       "    <tr>\n",
       "      <th>3480</th>\n",
       "      <td>American_film_actors</td>\n",
       "      <td>1061450</td>\n",
       "      <td>6988905</td>\n",
       "    </tr>\n",
       "    <tr>\n",
       "      <th>19081</th>\n",
       "      <td>American_film_actors</td>\n",
       "      <td>675833</td>\n",
       "      <td>6894494</td>\n",
       "    </tr>\n",
       "    <tr>\n",
       "      <th>13232</th>\n",
       "      <td>American_film_actors</td>\n",
       "      <td>1265399</td>\n",
       "      <td>6624959</td>\n",
       "    </tr>\n",
       "    <tr>\n",
       "      <th>16168</th>\n",
       "      <td>Year_of_birth_unknown</td>\n",
       "      <td>1656246</td>\n",
       "      <td>6426226</td>\n",
       "    </tr>\n",
       "    <tr>\n",
       "      <th>24869</th>\n",
       "      <td>Association_football_defenders</td>\n",
       "      <td>85428</td>\n",
       "      <td>6403003</td>\n",
       "    </tr>\n",
       "    <tr>\n",
       "      <th>3397</th>\n",
       "      <td>American_film_actors</td>\n",
       "      <td>1061444</td>\n",
       "      <td>6205231</td>\n",
       "    </tr>\n",
       "    <tr>\n",
       "      <th>49674</th>\n",
       "      <td>American_film_actors</td>\n",
       "      <td>1025350</td>\n",
       "      <td>5846653</td>\n",
       "    </tr>\n",
       "    <tr>\n",
       "      <th>50427</th>\n",
       "      <td>American_film_actors</td>\n",
       "      <td>1061506</td>\n",
       "      <td>5751546</td>\n",
       "    </tr>\n",
       "    <tr>\n",
       "      <th>10320</th>\n",
       "      <td>American_film_actors</td>\n",
       "      <td>1061494</td>\n",
       "      <td>5632383</td>\n",
       "    </tr>\n",
       "    <tr>\n",
       "      <th>56719</th>\n",
       "      <td>American_film_actors</td>\n",
       "      <td>1163509</td>\n",
       "      <td>5500864</td>\n",
       "    </tr>\n",
       "    <tr>\n",
       "      <th>333938</th>\n",
       "      <td>American_films</td>\n",
       "      <td>1064502</td>\n",
       "      <td>5421765</td>\n",
       "    </tr>\n",
       "    <tr>\n",
       "      <th>27653</th>\n",
       "      <td>Association_football_defenders</td>\n",
       "      <td>87523</td>\n",
       "      <td>5389724</td>\n",
       "    </tr>\n",
       "    <tr>\n",
       "      <th>26523</th>\n",
       "      <td>Association_football_midfielders</td>\n",
       "      <td>84849</td>\n",
       "      <td>5389570</td>\n",
       "    </tr>\n",
       "    <tr>\n",
       "      <th>52</th>\n",
       "      <td>American_film_actors</td>\n",
       "      <td>1061485</td>\n",
       "      <td>5386588</td>\n",
       "    </tr>\n",
       "    <tr>\n",
       "      <th>10198</th>\n",
       "      <td>American_film_actors</td>\n",
       "      <td>1062149</td>\n",
       "      <td>5290311</td>\n",
       "    </tr>\n",
       "    <tr>\n",
       "      <th>...</th>\n",
       "      <td>...</td>\n",
       "      <td>...</td>\n",
       "      <td>...</td>\n",
       "    </tr>\n",
       "    <tr>\n",
       "      <th>576</th>\n",
       "      <td>Living_people</td>\n",
       "      <td>1400548</td>\n",
       "      <td>3265619</td>\n",
       "    </tr>\n",
       "    <tr>\n",
       "      <th>19089</th>\n",
       "      <td>American_film_actors</td>\n",
       "      <td>1062134</td>\n",
       "      <td>3168113</td>\n",
       "    </tr>\n",
       "    <tr>\n",
       "      <th>54985</th>\n",
       "      <td>American_film_actors</td>\n",
       "      <td>1163716</td>\n",
       "      <td>3159743</td>\n",
       "    </tr>\n",
       "    <tr>\n",
       "      <th>182183</th>\n",
       "      <td>American_film_actors</td>\n",
       "      <td>572521</td>\n",
       "      <td>3095761</td>\n",
       "    </tr>\n",
       "    <tr>\n",
       "      <th>182184</th>\n",
       "      <td>American_film_actors</td>\n",
       "      <td>572522</td>\n",
       "      <td>3095745</td>\n",
       "    </tr>\n",
       "    <tr>\n",
       "      <th>5197</th>\n",
       "      <td>Association_football_goalkeepers</td>\n",
       "      <td>81952</td>\n",
       "      <td>2943340</td>\n",
       "    </tr>\n",
       "    <tr>\n",
       "      <th>128460</th>\n",
       "      <td>American_films</td>\n",
       "      <td>1060676</td>\n",
       "      <td>2926862</td>\n",
       "    </tr>\n",
       "    <tr>\n",
       "      <th>6510</th>\n",
       "      <td>American_film_actors</td>\n",
       "      <td>1061549</td>\n",
       "      <td>2890661</td>\n",
       "    </tr>\n",
       "    <tr>\n",
       "      <th>135142</th>\n",
       "      <td>American_films</td>\n",
       "      <td>1062808</td>\n",
       "      <td>2883418</td>\n",
       "    </tr>\n",
       "    <tr>\n",
       "      <th>23645</th>\n",
       "      <td>Association_football_midfielders</td>\n",
       "      <td>87503</td>\n",
       "      <td>2881843</td>\n",
       "    </tr>\n",
       "    <tr>\n",
       "      <th>296571</th>\n",
       "      <td>American_film_actors</td>\n",
       "      <td>1024424</td>\n",
       "      <td>2864072</td>\n",
       "    </tr>\n",
       "    <tr>\n",
       "      <th>9958</th>\n",
       "      <td>Association_football_midfielders</td>\n",
       "      <td>83513</td>\n",
       "      <td>2661228</td>\n",
       "    </tr>\n",
       "    <tr>\n",
       "      <th>3288</th>\n",
       "      <td>Living_people</td>\n",
       "      <td>1169056</td>\n",
       "      <td>2658968</td>\n",
       "    </tr>\n",
       "    <tr>\n",
       "      <th>109710</th>\n",
       "      <td>American_film_actors</td>\n",
       "      <td>1265364</td>\n",
       "      <td>2657795</td>\n",
       "    </tr>\n",
       "    <tr>\n",
       "      <th>1530</th>\n",
       "      <td>American_film_actors</td>\n",
       "      <td>1265434</td>\n",
       "      <td>2628120</td>\n",
       "    </tr>\n",
       "    <tr>\n",
       "      <th>49675</th>\n",
       "      <td>American_film_actors</td>\n",
       "      <td>1061475</td>\n",
       "      <td>2609473</td>\n",
       "    </tr>\n",
       "    <tr>\n",
       "      <th>54873</th>\n",
       "      <td>Year_of_birth_unknown</td>\n",
       "      <td>367999</td>\n",
       "      <td>2598728</td>\n",
       "    </tr>\n",
       "    <tr>\n",
       "      <th>86612</th>\n",
       "      <td>American_film_actors</td>\n",
       "      <td>1163732</td>\n",
       "      <td>2572334</td>\n",
       "    </tr>\n",
       "    <tr>\n",
       "      <th>8260</th>\n",
       "      <td>Living_people</td>\n",
       "      <td>1061749</td>\n",
       "      <td>2571788</td>\n",
       "    </tr>\n",
       "    <tr>\n",
       "      <th>318541</th>\n",
       "      <td>American_film_actors</td>\n",
       "      <td>1223791</td>\n",
       "      <td>2561355</td>\n",
       "    </tr>\n",
       "    <tr>\n",
       "      <th>335624</th>\n",
       "      <td>American_film_actors</td>\n",
       "      <td>1244164</td>\n",
       "      <td>2553972</td>\n",
       "    </tr>\n",
       "    <tr>\n",
       "      <th>35852</th>\n",
       "      <td>Association_football_defenders</td>\n",
       "      <td>105450</td>\n",
       "      <td>2537835</td>\n",
       "    </tr>\n",
       "    <tr>\n",
       "      <th>734</th>\n",
       "      <td>Association_football_midfielders</td>\n",
       "      <td>87589</td>\n",
       "      <td>2537831</td>\n",
       "    </tr>\n",
       "    <tr>\n",
       "      <th>335121</th>\n",
       "      <td>Living_people</td>\n",
       "      <td>1511869</td>\n",
       "      <td>2531343</td>\n",
       "    </tr>\n",
       "    <tr>\n",
       "      <th>3131</th>\n",
       "      <td>Living_people</td>\n",
       "      <td>1406567</td>\n",
       "      <td>2524154</td>\n",
       "    </tr>\n",
       "    <tr>\n",
       "      <th>61873</th>\n",
       "      <td>Living_people</td>\n",
       "      <td>149174</td>\n",
       "      <td>2524010</td>\n",
       "    </tr>\n",
       "    <tr>\n",
       "      <th>97536</th>\n",
       "      <td>Living_people</td>\n",
       "      <td>1404667</td>\n",
       "      <td>2523925</td>\n",
       "    </tr>\n",
       "    <tr>\n",
       "      <th>46370</th>\n",
       "      <td>Living_people</td>\n",
       "      <td>1401373</td>\n",
       "      <td>2523923</td>\n",
       "    </tr>\n",
       "    <tr>\n",
       "      <th>47838</th>\n",
       "      <td>Living_people</td>\n",
       "      <td>1372287</td>\n",
       "      <td>2523914</td>\n",
       "    </tr>\n",
       "    <tr>\n",
       "      <th>62294</th>\n",
       "      <td>Living_people</td>\n",
       "      <td>1400397</td>\n",
       "      <td>2523907</td>\n",
       "    </tr>\n",
       "  </tbody>\n",
       "</table>\n",
       "<p>100 rows × 3 columns</p>\n",
       "</div>"
      ],
      "text/plain": [
       "                                Category     Node     Score\n",
       "10                  American_film_actors  1400636  41796629\n",
       "18666               American_film_actors  1025352  30678601\n",
       "3057                American_film_actors  1061501  15411107\n",
       "47541               American_film_actors  1061504  14183521\n",
       "1931                American_film_actors  1181827  14085847\n",
       "28889               American_film_actors  1163692  11735038\n",
       "105047             Year_of_birth_unknown   339954  11735038\n",
       "50420               American_film_actors  1026878  11256315\n",
       "4653                American_film_actors  1163630  10227917\n",
       "56137               American_film_actors  1061469   9500036\n",
       "58437               American_film_actors  1061487   8235162\n",
       "13009               American_film_actors  1061422   7385966\n",
       "47518               American_film_actors  1061433   7088593\n",
       "67507              Year_of_birth_unknown   168194   7015228\n",
       "15203               American_film_actors  1061430   7015061\n",
       "3480                American_film_actors  1061450   6988905\n",
       "19081               American_film_actors   675833   6894494\n",
       "13232               American_film_actors  1265399   6624959\n",
       "16168              Year_of_birth_unknown  1656246   6426226\n",
       "24869     Association_football_defenders    85428   6403003\n",
       "3397                American_film_actors  1061444   6205231\n",
       "49674               American_film_actors  1025350   5846653\n",
       "50427               American_film_actors  1061506   5751546\n",
       "10320               American_film_actors  1061494   5632383\n",
       "56719               American_film_actors  1163509   5500864\n",
       "333938                    American_films  1064502   5421765\n",
       "27653     Association_football_defenders    87523   5389724\n",
       "26523   Association_football_midfielders    84849   5389570\n",
       "52                  American_film_actors  1061485   5386588\n",
       "10198               American_film_actors  1062149   5290311\n",
       "...                                  ...      ...       ...\n",
       "576                        Living_people  1400548   3265619\n",
       "19089               American_film_actors  1062134   3168113\n",
       "54985               American_film_actors  1163716   3159743\n",
       "182183              American_film_actors   572521   3095761\n",
       "182184              American_film_actors   572522   3095745\n",
       "5197    Association_football_goalkeepers    81952   2943340\n",
       "128460                    American_films  1060676   2926862\n",
       "6510                American_film_actors  1061549   2890661\n",
       "135142                    American_films  1062808   2883418\n",
       "23645   Association_football_midfielders    87503   2881843\n",
       "296571              American_film_actors  1024424   2864072\n",
       "9958    Association_football_midfielders    83513   2661228\n",
       "3288                       Living_people  1169056   2658968\n",
       "109710              American_film_actors  1265364   2657795\n",
       "1530                American_film_actors  1265434   2628120\n",
       "49675               American_film_actors  1061475   2609473\n",
       "54873              Year_of_birth_unknown   367999   2598728\n",
       "86612               American_film_actors  1163732   2572334\n",
       "8260                       Living_people  1061749   2571788\n",
       "318541              American_film_actors  1223791   2561355\n",
       "335624              American_film_actors  1244164   2553972\n",
       "35852     Association_football_defenders   105450   2537835\n",
       "734     Association_football_midfielders    87589   2537831\n",
       "335121                     Living_people  1511869   2531343\n",
       "3131                       Living_people  1406567   2524154\n",
       "61873                      Living_people   149174   2524010\n",
       "97536                      Living_people  1404667   2523925\n",
       "46370                      Living_people  1401373   2523923\n",
       "47838                      Living_people  1372287   2523914\n",
       "62294                      Living_people  1400397   2523907\n",
       "\n",
       "[100 rows x 3 columns]"
      ]
     },
     "execution_count": 5,
     "metadata": {},
     "output_type": "execute_result"
    }
   ],
   "source": [
    "dfscore=pd.DataFrame(list1)\n",
    "dfscore = dfscore.sort_values(by='Score', ascending=False)\n",
    "dfscore.head(100)"
   ]
  },
  {
   "cell_type": "code",
   "execution_count": 9,
   "metadata": {},
   "outputs": [
    {
     "data": {
      "text/plain": [
       "['English_footballers',\n",
       " 'The_Football_League_players',\n",
       " 'Association_football_forwards',\n",
       " 'Association_football_goalkeepers',\n",
       " 'Association_football_midfielders',\n",
       " 'Association_football_defenders',\n",
       " 'Living_people',\n",
       " 'Year_of_birth_unknown',\n",
       " 'Harvard_University_alumni',\n",
       " 'Major_League_Baseball_pitchers',\n",
       " 'Members_of_the_United_Kingdom_Parliament_for_English_constituencies',\n",
       " 'Indian_films',\n",
       " 'Year_of_death_missing',\n",
       " 'English_cricketers',\n",
       " 'Year_of_birth_missing_(living_people)',\n",
       " 'Rivers_of_Romania',\n",
       " 'Main_Belt_asteroids',\n",
       " 'Asteroids_named_for_people',\n",
       " 'English-language_albums',\n",
       " 'English_television_actors',\n",
       " 'British_films',\n",
       " 'English-language_films',\n",
       " 'American_films',\n",
       " 'Fellows_of_the_Royal_Society',\n",
       " 'People_from_New_York_City',\n",
       " 'American_Jews',\n",
       " 'American_television_actors',\n",
       " 'American_film_actors',\n",
       " 'Debut_albums',\n",
       " 'Black-and-white_films',\n",
       " 'Year_of_birth_missing',\n",
       " 'Place_of_birth_missing_(living_people)',\n",
       " 'Article_Feedback_Pilot',\n",
       " 'American_military_personnel_of_World_War_II',\n",
       " 'Windows_games']"
      ]
     },
     "execution_count": 9,
     "metadata": {},
     "output_type": "execute_result"
    }
   ],
   "source": [
    "category_list"
   ]
  },
  {
   "cell_type": "code",
   "execution_count": 15,
   "metadata": {},
   "outputs": [
    {
     "data": {
      "text/html": [
       "<div>\n",
       "<style scoped>\n",
       "    .dataframe tbody tr th:only-of-type {\n",
       "        vertical-align: middle;\n",
       "    }\n",
       "\n",
       "    .dataframe tbody tr th {\n",
       "        vertical-align: top;\n",
       "    }\n",
       "\n",
       "    .dataframe thead th {\n",
       "        text-align: right;\n",
       "    }\n",
       "</style>\n",
       "<table border=\"1\" class=\"dataframe\">\n",
       "  <thead>\n",
       "    <tr style=\"text-align: right;\">\n",
       "      <th></th>\n",
       "      <th>Score</th>\n",
       "      <th>Node</th>\n",
       "    </tr>\n",
       "  </thead>\n",
       "  <tbody>\n",
       "    <tr>\n",
       "      <th>7054</th>\n",
       "      <td>357946</td>\n",
       "      <td>82393</td>\n",
       "    </tr>\n",
       "    <tr>\n",
       "      <th>23102</th>\n",
       "      <td>262503</td>\n",
       "      <td>82864</td>\n",
       "    </tr>\n",
       "    <tr>\n",
       "      <th>25201</th>\n",
       "      <td>256305</td>\n",
       "      <td>85194</td>\n",
       "    </tr>\n",
       "    <tr>\n",
       "      <th>24327</th>\n",
       "      <td>204177</td>\n",
       "      <td>83294</td>\n",
       "    </tr>\n",
       "    <tr>\n",
       "      <th>20899</th>\n",
       "      <td>150806</td>\n",
       "      <td>81825</td>\n",
       "    </tr>\n",
       "  </tbody>\n",
       "</table>\n",
       "</div>"
      ],
      "text/plain": [
       "        Score   Node\n",
       "7054   357946  82393\n",
       "23102  262503  82864\n",
       "25201  256305  85194\n",
       "24327  204177  83294\n",
       "20899  150806  81825"
      ]
     },
     "execution_count": 15,
     "metadata": {},
     "output_type": "execute_result"
    }
   ],
   "source": [
    "dfscore.loc[dfscore.Category=='English_footballers'][['Score','Node']].head()"
   ]
  },
  {
   "cell_type": "code",
   "execution_count": 16,
   "metadata": {},
   "outputs": [
    {
     "name": "stdout",
     "output_type": "stream",
     "text": [
      "        Score   Node\n",
      "7054   357946  82393\n",
      "23102  262503  82864\n",
      "25201  256305  85194\n",
      "24327  204177  83294\n",
      "20899  150806  81825\n",
      "         Score   Node\n",
      "6463   1061073  82931\n",
      "20925   694923  82092\n",
      "23616   562237  82832\n",
      "6642    531924  82768\n",
      "19892   523435  81857\n",
      "         Score   Node\n",
      "24843  1246140  82738\n",
      "5284   1014671  89923\n",
      "21170   975711  82361\n",
      "24800   911869  82015\n",
      "21463   799735  88905\n",
      "         Score   Node\n",
      "5197   2943340  81952\n",
      "1603   1582580  89871\n",
      "30172  1246140  97494\n",
      "1598   1231817  88889\n",
      "1591   1200868  83527\n",
      "         Score   Node\n",
      "26523  5389570  84849\n",
      "5797   4561703  88793\n",
      "17345  4243836  78971\n",
      "23645  2881843  87503\n",
      "9958   2661228  83513\n",
      "         Score    Node\n",
      "24869  6403003   85428\n",
      "27653  5389724   87523\n",
      "30261  4561709   88421\n",
      "24898  4243836  896183\n",
      "23563  3997966   87496\n",
      "         Score     Node\n",
      "47235  5126900  1062039\n",
      "3401   4724592  1168927\n",
      "3020   4014457   824164\n",
      "94331  3645513  1404199\n",
      "75236  3618213  1402425\n",
      "           Score     Node\n",
      "105047  11735038   339954\n",
      "67507    7015228   168194\n",
      "16168    6426226  1656246\n",
      "54873    2598728   367999\n",
      "14006    1858160    60066\n",
      "         Score     Node\n",
      "1910   2523887  1400478\n",
      "49926  1435691  1061684\n",
      "3228   1053894  1400737\n",
      "13344   846968  1400126\n",
      "87307   605316  1404247\n",
      "          Score    Node\n",
      "8238    2181336  386954\n",
      "58076   1772084  386698\n",
      "117227    63466  387728\n",
      "114117    59964  386752\n",
      "116978    58360  386130\n",
      "         Score    Node\n",
      "1348    240007  540950\n",
      "6843     44299  537716\n",
      "140994   23902  448650\n",
      "8996     17944   64825\n",
      "41084    14610  537508\n",
      "        Score    Node\n",
      "188553     12  584043\n",
      "188520     11  584199\n",
      "189736     10  583741\n",
      "186399     10  581990\n",
      "186677     10  582091\n",
      "         Score    Node\n",
      "177543  676668  557694\n",
      "174796  252099  549646\n",
      "74858   233478  817954\n",
      "284506  143608  884718\n",
      "47026   132645  115208\n",
      "          Score     Node\n",
      "40280   1467033   539896\n",
      "65798    113262  1266070\n",
      "218054    66415   666772\n",
      "172205    63958   543982\n",
      "173252    58374  1045032\n",
      "        Score     Node\n",
      "57115   28764   142596\n",
      "69257    1752  1057684\n",
      "289649    261  1338965\n",
      "259132    204   775763\n",
      "163905    179   526524\n",
      "       Score    Node\n",
      "3798   76567  413124\n",
      "77873   3435  786913\n",
      "18901   3308  786295\n",
      "78581   3261  625326\n",
      "78330   3245  785977\n",
      "         Score     Node\n",
      "309082  689948   998550\n",
      "278460  605906   870549\n",
      "279984  256310   874720\n",
      "281046  235213   874133\n",
      "338151  140755  1351517\n",
      "         Score     Node\n",
      "338376  165249  1669027\n",
      "346319   35832  1587531\n",
      "246689   30097   872261\n",
      "270520   18253   872252\n",
      "278502   12333   870801\n",
      "        Score     Node\n",
      "36       9314  1181401\n",
      "74776    8711  1226546\n",
      "203687   8655  1226592\n",
      "319329   7860  1026371\n",
      "33861    7316  1181799\n",
      "        Score     Node\n",
      "11652    1908  1062190\n",
      "18037    1702  1061411\n",
      "128551   1615  1044792\n",
      "14524    1596  1062159\n",
      "9160     1584  1044658\n",
      "        Score     Node\n",
      "176      1501  1041937\n",
      "326724     60  1045624\n",
      "327093     59  1044784\n",
      "320651     54  1058416\n",
      "321233     46  1031117\n",
      "       Score     Node\n",
      "16961  17296  1061272\n",
      "18057  12031  1058611\n",
      "10295  10861  1061310\n",
      "68138  10533  1061306\n",
      "45017   9789  1061244\n",
      "          Score     Node\n",
      "333938  5421765  1064502\n",
      "109375  5142324   356507\n",
      "64601   4956205  1061232\n",
      "2373    4470667  1070116\n",
      "128460  2926862  1060676\n",
      "         Score    Node\n",
      "137539  241633  537480\n",
      "151885  240194  541663\n",
      "1199    240054  607889\n",
      "49761    57938  537718\n",
      "2606     46033   64856\n",
      "         Score     Node\n",
      "133026  311597  1265390\n",
      "16922   196984  1061369\n",
      "18414   187623  1163815\n",
      "47474   143532  1061486\n",
      "4598    143283  1163814\n",
      "       Score     Node\n",
      "46073  73169  1061552\n",
      "54698  64327  1061631\n",
      "58367  62019  1062582\n",
      "5147   41753  1265350\n",
      "53     40949  1062226\n",
      "       Score     Node\n",
      "8057      59  1061503\n",
      "97714     56  1163665\n",
      "10195     46  1061488\n",
      "10204     44  1163742\n",
      "19087     41  1061448\n",
      "          Score     Node\n",
      "10     41796629  1400636\n",
      "18666  30678601  1025352\n",
      "3057   15411107  1061501\n",
      "47541  14183521  1061504\n",
      "1931   14085847  1181827\n",
      "        Score     Node\n",
      "318308   1556  1085106\n",
      "315409    195  1198951\n",
      "338905    118  1447164\n",
      "178882    118   565755\n",
      "60741     106   146386\n",
      "        Score     Node\n",
      "63064   74206  1067556\n",
      "91126   69500  1268561\n",
      "11648   64328   898981\n",
      "305874  61863  1057722\n",
      "336616  61281  1265739\n",
      "          Score     Node\n",
      "12783   1148783    52002\n",
      "311160   950966  1003737\n",
      "296782   294106   940252\n",
      "97848    247739   324413\n",
      "356814   183125  1210694\n",
      "        Score     Node\n",
      "328040     99  1504432\n",
      "110360     55  1598144\n",
      "67679      17  1758686\n",
      "316557      7  1017979\n",
      "256374      1  1232822\n",
      "        Score     Node\n",
      "264     11149  1394526\n",
      "7        8575   279122\n",
      "224      6864  1061904\n",
      "75379    3416  1044632\n",
      "102984   3164  1061066\n",
      "        Score     Node\n",
      "825    773992  1163560\n",
      "47353  669527  1061496\n",
      "584    605294  1400484\n",
      "86389  491330  1062668\n",
      "1531   456178  1400477\n",
      "        Score     Node\n",
      "195233  23039  1738169\n",
      "331677  13104  1740492\n",
      "131499  12295  1735084\n",
      "49778   11476  1740154\n",
      "66529    3360   430719\n"
     ]
    }
   ],
   "source": []
  }
 ],
 "metadata": {
  "kernelspec": {
   "display_name": "Python 3",
   "language": "python",
   "name": "python3"
  },
  "language_info": {
   "codemirror_mode": {
    "name": "ipython",
    "version": 3
   },
   "file_extension": ".py",
   "mimetype": "text/x-python",
   "name": "python",
   "nbconvert_exporter": "python",
   "pygments_lexer": "ipython3",
   "version": "3.7.0"
  }
 },
 "nbformat": 4,
 "nbformat_minor": 2
}
