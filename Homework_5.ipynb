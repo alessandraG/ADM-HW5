{
 "cells": [
  {
   "cell_type": "code",
   "execution_count": 1,
   "metadata": {},
   "outputs": [],
   "source": [
    "from tqdm import tnrange, tqdm_notebook\n",
    "import collections\n",
    "import math\n",
    "import numpy as np\n",
    "from collections import defaultdict\n",
    "import threading\n",
    "import functions as f\n",
    "import networkx as nx\n",
    "import pandas as pd"
   ]
  },
  {
   "cell_type": "code",
   "execution_count": 44,
   "metadata": {},
   "outputs": [],
   "source": [
    "graph = f.graph_dict()"
   ]
  },
  {
   "cell_type": "code",
   "execution_count": 46,
   "metadata": {},
   "outputs": [
    {
     "data": {
      "text/plain": [
       "['401135', '1069112', '1163551']"
      ]
     },
     "execution_count": 46,
     "metadata": {},
     "output_type": "execute_result"
    }
   ],
   "source": [
    "graph['52']"
   ]
  },
  {
   "cell_type": "code",
   "execution_count": 47,
   "metadata": {
    "scrolled": true
   },
   "outputs": [
    {
     "name": "stdout",
     "output_type": "stream",
     "text": [
      "['1060396', '1061304', '1062611', '1066969', '1069008', '1069113', '1069258', '1069275', '1656982']\n"
     ]
    }
   ],
   "source": [
    "print(graph['1069112'])"
   ]
  },
  {
   "cell_type": "markdown",
   "metadata": {},
   "source": [
    "#### The graph is not undirected because the node 52 has edge with 1099112 and the reverse is not true"
   ]
  },
  {
   "cell_type": "code",
   "execution_count": 3,
   "metadata": {},
   "outputs": [],
   "source": [
    "#We want to figure out the edges of the graph\n",
    "edges = []\n",
    "for e in graph:\n",
    "    a = graph[e]\n",
    "    for i in range(len(a)):\n",
    "        edges.append(a[i])"
   ]
  },
  {
   "cell_type": "code",
   "execution_count": 4,
   "metadata": {},
   "outputs": [
    {
     "data": {
      "text/plain": [
       "2645247"
      ]
     },
     "execution_count": 4,
     "metadata": {},
     "output_type": "execute_result"
    }
   ],
   "source": [
    "len(edges) #2645247"
   ]
  },
  {
   "cell_type": "code",
   "execution_count": 5,
   "metadata": {},
   "outputs": [
    {
     "data": {
      "text/plain": [
       "428957"
      ]
     },
     "execution_count": 5,
     "metadata": {},
     "output_type": "execute_result"
    }
   ],
   "source": [
    "len(graph.keys())\n",
    "#FOR SURE DIRECTED GRAPH"
   ]
  },
  {
   "cell_type": "code",
   "execution_count": 9,
   "metadata": {},
   "outputs": [],
   "source": [
    "list1= list()\n",
    "with open(\"wiki-topcats-reduced.txt\") as f:\n",
    "        for line in f:\n",
    "            list1.append(line.strip().split(\"\\t\"))"
   ]
  },
  {
   "cell_type": "code",
   "execution_count": 10,
   "metadata": {},
   "outputs": [],
   "source": [
    "#We want to figure out the nodes of the graph\n",
    "nodes = []\n",
    "for e in list1:\n",
    "    nodes.append(e[0])\n",
    "    nodes.append(e[1])\n",
    "nodes=set(nodes)"
   ]
  },
  {
   "cell_type": "code",
   "execution_count": 11,
   "metadata": {},
   "outputs": [
    {
     "data": {
      "text/plain": [
       "461193"
      ]
     },
     "execution_count": 11,
     "metadata": {},
     "output_type": "execute_result"
    }
   ],
   "source": [
    "len(nodes) #461193"
   ]
  },
  {
   "cell_type": "code",
   "execution_count": 12,
   "metadata": {},
   "outputs": [],
   "source": [
    "#Average Node Degree\n",
    "count = 0\n",
    "for lst in graph.values():\n",
    "    count += len(lst)\n",
    "avgNodeDegree = count/len(graph.keys())"
   ]
  },
  {
   "cell_type": "code",
   "execution_count": 13,
   "metadata": {},
   "outputs": [
    {
     "data": {
      "text/plain": [
       "6.1666950300379755"
      ]
     },
     "execution_count": 13,
     "metadata": {},
     "output_type": "execute_result"
    }
   ],
   "source": [
    "avgNodeDegree"
   ]
  },
  {
   "cell_type": "code",
   "execution_count": 14,
   "metadata": {},
   "outputs": [
    {
     "data": {
      "text/plain": [
       "1.2436602635647606e-05"
      ]
     },
     "execution_count": 14,
     "metadata": {},
     "output_type": "execute_result"
    }
   ],
   "source": [
    "#Density\n",
    "dense = len(edges)/(len(nodes)*(len(nodes)-1))\n",
    "dense"
   ]
  },
  {
   "cell_type": "markdown",
   "metadata": {},
   "source": [
    "## Distance-Rank"
   ]
  },
  {
   "cell_type": "code",
   "execution_count": 2,
   "metadata": {},
   "outputs": [],
   "source": [
    "G, category_dict=f.create_graph_and_dict()\n",
    "category_list = list(category_dict.keys())\n",
    "input_category='Indian_films'"
   ]
  },
  {
   "cell_type": "code",
   "execution_count": 8,
   "metadata": {},
   "outputs": [],
   "source": [
    "# Below created the list of lists for the first 16 categories \n",
    "auxiliary_list = list(category_dict.keys())\n",
    "auxiliary_list.remove(input_category)\n",
    "i=0\n",
    "lst=[]\n",
    "while i < 16:\n",
    "    lst.append(auxiliary_list[i:i+4])\n",
    "    i+=4\n",
    "\n",
    "#this is the next list\n",
    "lst_2=[]\n",
    "while i<32:\n",
    "    lst_2.append(auxiliary_list[i:i+4])\n",
    "    i+=4"
   ]
  },
  {
   "cell_type": "markdown",
   "metadata": {},
   "source": [
    "\n",
    "#### Threads\n",
    "#### Below multi-threading is used to facilitate the execution of the BFS algorithm, in order to find the distances between the category that we chosen and the others. \n",
    "#### As the input was too large for BFS function . Multithreading has been used for running the same method for different categories at the same time, in order to obtain fast result instead of run each time the method for one category. Four threads are created to access to the BFS function.  Each time that the function is called it computes four categories (we decided this number for avoiding the Memory Error and to overload too much each thread.) The same for the procedure used for calling threads: we decided to call four thread per procedure for the same reason. \n",
    "\n",
    "#### res list was the resources that keep all the output of threads. As soon as the thread finished, the res list has been updated.\n",
    " \n"
   ]
  },
  {
   "cell_type": "code",
   "execution_count": 5,
   "metadata": {},
   "outputs": [
    {
     "name": "stdout",
     "output_type": "stream",
     "text": [
      "\n"
     ]
    }
   ],
   "source": [
    "res_list = []\n",
    "def threadGraph(lst):\n",
    "    res_list.append(f.distance_graph(G,input_category, lst,category_dict))\n",
    "\n",
    "threads = []\n",
    "#four threads are created here\n",
    "for a in range(4):\n",
    "    t = threading.Thread(name = a, target = threadGraph,\n",
    "                       args = [lst[a]])\n",
    "    \n",
    "    threads.append(t)\n",
    "    t.start()\n",
    "Graphdf=pd.DataFrame()\n",
    "for i in res_list1:\n",
    "    Graphdf1=pd.DataFrame(i)\n",
    "    Graphdf=Graphdf.append(Graphdf1)\n",
    "Graphdf.to_csv(\"Graph1.csv\",index=False)"
   ]
  },
  {
   "cell_type": "code",
   "execution_count": 36,
   "metadata": {},
   "outputs": [
    {
     "data": {
      "text/html": [
       "<div>\n",
       "<style scoped>\n",
       "    .dataframe tbody tr th:only-of-type {\n",
       "        vertical-align: middle;\n",
       "    }\n",
       "\n",
       "    .dataframe tbody tr th {\n",
       "        vertical-align: top;\n",
       "    }\n",
       "\n",
       "    .dataframe thead th {\n",
       "        text-align: right;\n",
       "    }\n",
       "</style>\n",
       "<table border=\"1\" class=\"dataframe\">\n",
       "  <thead>\n",
       "    <tr style=\"text-align: right;\">\n",
       "      <th></th>\n",
       "      <th>0</th>\n",
       "      <th>1</th>\n",
       "    </tr>\n",
       "  </thead>\n",
       "  <tbody>\n",
       "    <tr>\n",
       "      <th>0</th>\n",
       "      <td>English-language_films</td>\n",
       "      <td>6.000000</td>\n",
       "    </tr>\n",
       "    <tr>\n",
       "      <th>1</th>\n",
       "      <td>American_films</td>\n",
       "      <td>inf</td>\n",
       "    </tr>\n",
       "    <tr>\n",
       "      <th>2</th>\n",
       "      <td>Fellows_of_the_Royal_Society</td>\n",
       "      <td>8.000000</td>\n",
       "    </tr>\n",
       "    <tr>\n",
       "      <th>3</th>\n",
       "      <td>People_from_New_York_City</td>\n",
       "      <td>7.000000</td>\n",
       "    </tr>\n",
       "    <tr>\n",
       "      <th>0</th>\n",
       "      <td>Black-and-white_films</td>\n",
       "      <td>7.000000</td>\n",
       "    </tr>\n",
       "    <tr>\n",
       "      <th>1</th>\n",
       "      <td>Year_of_birth_missing</td>\n",
       "      <td>inf</td>\n",
       "    </tr>\n",
       "    <tr>\n",
       "      <th>2</th>\n",
       "      <td>Place_of_birth_missing_(living_people)</td>\n",
       "      <td>8.000000</td>\n",
       "    </tr>\n",
       "    <tr>\n",
       "      <th>3</th>\n",
       "      <td>Article_Feedback_Pilot</td>\n",
       "      <td>6.000000</td>\n",
       "    </tr>\n",
       "    <tr>\n",
       "      <th>0</th>\n",
       "      <td>Asteroids_named_for_people</td>\n",
       "      <td>inf</td>\n",
       "    </tr>\n",
       "    <tr>\n",
       "      <th>1</th>\n",
       "      <td>English-language_albums</td>\n",
       "      <td>7.000000</td>\n",
       "    </tr>\n",
       "    <tr>\n",
       "      <th>2</th>\n",
       "      <td>English_television_actors</td>\n",
       "      <td>6.000000</td>\n",
       "    </tr>\n",
       "    <tr>\n",
       "      <th>3</th>\n",
       "      <td>British_films</td>\n",
       "      <td>6.000000</td>\n",
       "    </tr>\n",
       "    <tr>\n",
       "      <th>0</th>\n",
       "      <td>American_Jews</td>\n",
       "      <td>7.000000</td>\n",
       "    </tr>\n",
       "    <tr>\n",
       "      <th>1</th>\n",
       "      <td>American_television_actors</td>\n",
       "      <td>6.000000</td>\n",
       "    </tr>\n",
       "    <tr>\n",
       "      <th>2</th>\n",
       "      <td>American_film_actors</td>\n",
       "      <td>inf</td>\n",
       "    </tr>\n",
       "    <tr>\n",
       "      <th>3</th>\n",
       "      <td>Debut_albums</td>\n",
       "      <td>7.000000</td>\n",
       "    </tr>\n",
       "  </tbody>\n",
       "</table>\n",
       "</div>"
      ],
      "text/plain": [
       "                                        0         1\n",
       "0                  English-language_films  6.000000\n",
       "1                          American_films       inf\n",
       "2            Fellows_of_the_Royal_Society  8.000000\n",
       "3               People_from_New_York_City  7.000000\n",
       "0                   Black-and-white_films  7.000000\n",
       "1                   Year_of_birth_missing       inf\n",
       "2  Place_of_birth_missing_(living_people)  8.000000\n",
       "3                  Article_Feedback_Pilot  6.000000\n",
       "0              Asteroids_named_for_people       inf\n",
       "1                 English-language_albums  7.000000\n",
       "2               English_television_actors  6.000000\n",
       "3                           British_films  6.000000\n",
       "0                           American_Jews  7.000000\n",
       "1              American_television_actors  6.000000\n",
       "2                    American_film_actors       inf\n",
       "3                            Debut_albums  7.000000"
      ]
     },
     "execution_count": 36,
     "metadata": {},
     "output_type": "execute_result"
    }
   ],
   "source": [
    "Graphdf1"
   ]
  },
  {
   "cell_type": "code",
   "execution_count": 10,
   "metadata": {},
   "outputs": [
    {
     "data": {
      "application/vnd.jupyter.widget-view+json": {
       "model_id": "898cd4088854460484d82769af09e5b5",
       "version_major": 2,
       "version_minor": 0
      },
      "text/plain": [
       "HBox(children=(IntProgress(value=0, max=2000), HTML(value='')))"
      ]
     },
     "metadata": {},
     "output_type": "display_data"
    },
    {
     "data": {
      "application/vnd.jupyter.widget-view+json": {
       "model_id": "f8ae0e0aec2f4179995ff8d0d003a6ed",
       "version_major": 2,
       "version_minor": 0
      },
      "text/plain": [
       "HBox(children=(IntProgress(value=0, max=2000), HTML(value='')))"
      ]
     },
     "metadata": {},
     "output_type": "display_data"
    },
    {
     "data": {
      "application/vnd.jupyter.widget-view+json": {
       "model_id": "fcb16e686e844a36b21aa419d2bc9b1e",
       "version_major": 2,
       "version_minor": 0
      },
      "text/plain": [
       "HBox(children=(IntProgress(value=0, max=2000), HTML(value='')))"
      ]
     },
     "metadata": {},
     "output_type": "display_data"
    },
    {
     "data": {
      "application/vnd.jupyter.widget-view+json": {
       "model_id": "561c5cf3cf1d4d2cb7d850a03e1393de",
       "version_major": 2,
       "version_minor": 0
      },
      "text/plain": [
       "HBox(children=(IntProgress(value=0, max=2000), HTML(value='')))"
      ]
     },
     "metadata": {},
     "output_type": "display_data"
    }
   ],
   "source": [
    "res_list1 = []\n",
    "def threadGraph1(lst):\n",
    "    res_list1.append(f.distance_graph(G,input_category, lst,category_dict))\n",
    "\n",
    "threads = []\n",
    "for a in range(4):\n",
    "    t = threading.Thread(name = a, target = threadGraph1,\n",
    "                       args = [lst_2[a]])    \n",
    "    threads.append(t)\n",
    "    t.start()\n",
    "Graphdf=pd.DataFrame()\n",
    "for i in res_list1:\n",
    "    Graphdf1=pd.DataFrame(i)\n",
    "    Graphdf=Graphdf.append(Graphdf1)\n",
    "Graphdf.to_csv(\"Graph2.csv\",index=False)"
   ]
  },
  {
   "cell_type": "code",
   "execution_count": 34,
   "metadata": {},
   "outputs": [
    {
     "data": {
      "text/plain": [
       "[[('English-language_films', 6.0),\n",
       "  ('American_films', inf),\n",
       "  ('Fellows_of_the_Royal_Society', 8.0),\n",
       "  ('People_from_New_York_City', 7.0)],\n",
       " [('Black-and-white_films', 7.0),\n",
       "  ('Year_of_birth_missing', inf),\n",
       "  ('Place_of_birth_missing_(living_people)', 8.0),\n",
       "  ('Article_Feedback_Pilot', 6.0)],\n",
       " [('Asteroids_named_for_people', inf),\n",
       "  ('English-language_albums', 7.0),\n",
       "  ('English_television_actors', 6.0),\n",
       "  ('British_films', 6.0)],\n",
       " [('American_Jews', 7.0),\n",
       "  ('American_television_actors', 6.0),\n",
       "  ('American_film_actors', inf),\n",
       "  ('Debut_albums', 7.0)]]"
      ]
     },
     "execution_count": 34,
     "metadata": {},
     "output_type": "execute_result"
    }
   ],
   "source": [
    "#the result is like below for each category the median shortest path\n",
    "res_list1"
   ]
  },
  {
   "cell_type": "code",
   "execution_count": null,
   "metadata": {},
   "outputs": [
    {
     "data": {
      "application/vnd.jupyter.widget-view+json": {
       "model_id": "955df0191e7b49e3bed7830fecbe0236",
       "version_major": 2,
       "version_minor": 0
      },
      "text/plain": [
       "HBox(children=(IntProgress(value=0, max=2000), HTML(value='')))"
      ]
     },
     "metadata": {},
     "output_type": "display_data"
    }
   ],
   "source": [
    "d=f.distance_graph2(G,input_category,['American_military_personnel_of_World_War_II', 'Windows_games','Indian_films'],category_dict)\n",
    "Graphdf=pd.DataFrame()\n",
    "Graphdf=Graphdf.append(d)\n",
    "Graphdf.to_csv(\"Graph3.csv\",index=False)"
   ]
  },
  {
   "cell_type": "markdown",
   "metadata": {},
   "source": [
    "<span style=\"font-family: Babas; font-size: 1.2em;\">\n",
    " <ul>\n",
    " <li>  We runned the previous algorithm that contains the Search of the Shortest Paths using threads for three times.\n",
    " This was due to the fact that data were big.\n",
    " Input given to the method: graph, input category, list with categories in order to find the shortest paths. \n",
    "</li>\n",
    "    <li>\n",
    "    Because we runned three times in different moments, we saved three lists with the results in this format:\n",
    " (Name of the Category, Rank with the input category with this category);\n",
    " </li>\n",
    "    <li>\n",
    " Thus, we merged all the categories with the ranks together.\n",
    "Below there is the Dataframe related to categories, sorted from the closest one until the furthest one by distance in order to rank categories.\n",
    "    </li>\n",
    "</ul>\n",
    "</span>"
   ]
  },
  {
   "cell_type": "code",
   "execution_count": 8,
   "metadata": {},
   "outputs": [],
   "source": [
    "dfg=pd.read_csv('Graphdf1.csv')\n",
    "dfg1 = pd.read_csv('Graphdf2.csv')\n",
    "dfg2 = pd.read_csv('Graph3.csv')\n",
    "dfg=dfg.reset_index(drop=True)\n",
    "dfg = dfg.rename(columns={\"0\": \"Category\", \"1\": \"Distance\"})\n",
    "dfg = dfg.sort_values(by='Distance')\n",
    "dfg = dfg.reset_index(drop=True)"
   ]
  },
  {
   "cell_type": "code",
   "execution_count": null,
   "metadata": {},
   "outputs": [],
   "source": [
    "dfg.to_csv('ranking_table.csv', index = False)"
   ]
  },
  {
   "cell_type": "code",
   "execution_count": 5,
   "metadata": {},
   "outputs": [],
   "source": [
    "dfg=pd.read_csv('ranking_table.csv')"
   ]
  },
  {
   "cell_type": "code",
   "execution_count": null,
   "metadata": {},
   "outputs": [],
   "source": []
  },
  {
   "cell_type": "markdown",
   "metadata": {},
   "source": [
    "<span style=\"font-family: Babas; font-size: 1.2em;\">\n",
    "\n",
    "Last point: We want to keep an information, score, into each node. First, we initialized every node as a negative value, in order to make a check (if we still didn't pass throught that node it will be still a negative number, but if there are no in edges this information will be 0). \n",
    "\n",
    "This initialization will be done into G, our original graph.\n",
    "\n",
    "</span>"
   ]
  },
  {
   "cell_type": "code",
   "execution_count": 3,
   "metadata": {},
   "outputs": [
    {
     "data": {
      "application/vnd.jupyter.widget-view+json": {
       "model_id": "18b578ca50e44104b9e35d5fc45bf4f6",
       "version_major": 2,
       "version_minor": 0
      },
      "text/plain": [
       "HBox(children=(IntProgress(value=0, max=34), HTML(value='')))"
      ]
     },
     "metadata": {},
     "output_type": "display_data"
    },
    {
     "name": "stdout",
     "output_type": "stream",
     "text": [
      "\n"
     ]
    }
   ],
   "source": [
    "G = f.steps(G,category_dict)"
   ]
  },
  {
   "cell_type": "code",
   "execution_count": null,
   "metadata": {},
   "outputs": [],
   "source": []
  },
  {
   "cell_type": "code",
   "execution_count": 6,
   "metadata": {},
   "outputs": [],
   "source": [
    "from numba import autojit, prange\n",
    "list1 = []\n",
    "@autojit\n",
    "def graphscore(e):\n",
    "    score_dict={}\n",
    "    score_dict['Node']=e\n",
    "    score_dict['Score']=G.node[e]['score']\n",
    "    score_dict['Category']=G.node[e]['Category']\n",
    "\n",
    "    return(score_dict)\n",
    "for e in G:\n",
    "    list1.append(graphscore(e))"
   ]
  },
  {
   "cell_type": "code",
   "execution_count": 7,
   "metadata": {},
   "outputs": [
    {
     "data": {
      "text/html": [
       "<div>\n",
       "<style scoped>\n",
       "    .dataframe tbody tr th:only-of-type {\n",
       "        vertical-align: middle;\n",
       "    }\n",
       "\n",
       "    .dataframe tbody tr th {\n",
       "        vertical-align: top;\n",
       "    }\n",
       "\n",
       "    .dataframe thead th {\n",
       "        text-align: right;\n",
       "    }\n",
       "</style>\n",
       "<table border=\"1\" class=\"dataframe\">\n",
       "  <thead>\n",
       "    <tr style=\"text-align: right;\">\n",
       "      <th></th>\n",
       "      <th>Category</th>\n",
       "      <th>Node</th>\n",
       "      <th>Score</th>\n",
       "    </tr>\n",
       "  </thead>\n",
       "  <tbody>\n",
       "    <tr>\n",
       "      <th>28889</th>\n",
       "      <td>American_film_actors</td>\n",
       "      <td>1163692</td>\n",
       "      <td>70269</td>\n",
       "    </tr>\n",
       "    <tr>\n",
       "      <th>47541</th>\n",
       "      <td>American_film_actors</td>\n",
       "      <td>1061504</td>\n",
       "      <td>45756</td>\n",
       "    </tr>\n",
       "    <tr>\n",
       "      <th>13009</th>\n",
       "      <td>American_film_actors</td>\n",
       "      <td>1061422</td>\n",
       "      <td>30179</td>\n",
       "    </tr>\n",
       "    <tr>\n",
       "      <th>19085</th>\n",
       "      <td>American_film_actors</td>\n",
       "      <td>1061395</td>\n",
       "      <td>29481</td>\n",
       "    </tr>\n",
       "    <tr>\n",
       "      <th>24869</th>\n",
       "      <td>Association_football_defenders</td>\n",
       "      <td>85428</td>\n",
       "      <td>26576</td>\n",
       "    </tr>\n",
       "    <tr>\n",
       "      <th>65350</th>\n",
       "      <td>American_film_actors</td>\n",
       "      <td>1061446</td>\n",
       "      <td>24563</td>\n",
       "    </tr>\n",
       "    <tr>\n",
       "      <th>27653</th>\n",
       "      <td>Association_football_defenders</td>\n",
       "      <td>87523</td>\n",
       "      <td>23699</td>\n",
       "    </tr>\n",
       "    <tr>\n",
       "      <th>26523</th>\n",
       "      <td>Association_football_midfielders</td>\n",
       "      <td>84849</td>\n",
       "      <td>23685</td>\n",
       "    </tr>\n",
       "    <tr>\n",
       "      <th>2460</th>\n",
       "      <td>American_film_actors</td>\n",
       "      <td>1061427</td>\n",
       "      <td>19298</td>\n",
       "    </tr>\n",
       "    <tr>\n",
       "      <th>47928</th>\n",
       "      <td>American_film_actors</td>\n",
       "      <td>1061429</td>\n",
       "      <td>18787</td>\n",
       "    </tr>\n",
       "    <tr>\n",
       "      <th>47235</th>\n",
       "      <td>Living_people</td>\n",
       "      <td>1062039</td>\n",
       "      <td>18324</td>\n",
       "    </tr>\n",
       "    <tr>\n",
       "      <th>22511</th>\n",
       "      <td>Association_football_defenders</td>\n",
       "      <td>89878</td>\n",
       "      <td>18196</td>\n",
       "    </tr>\n",
       "    <tr>\n",
       "      <th>47929</th>\n",
       "      <td>American_film_actors</td>\n",
       "      <td>1062109</td>\n",
       "      <td>17411</td>\n",
       "    </tr>\n",
       "    <tr>\n",
       "      <th>2230</th>\n",
       "      <td>Living_people</td>\n",
       "      <td>1062025</td>\n",
       "      <td>14476</td>\n",
       "    </tr>\n",
       "    <tr>\n",
       "      <th>110221</th>\n",
       "      <td>American_film_actors</td>\n",
       "      <td>1163836</td>\n",
       "      <td>14364</td>\n",
       "    </tr>\n",
       "    <tr>\n",
       "      <th>44870</th>\n",
       "      <td>American_film_actors</td>\n",
       "      <td>1061637</td>\n",
       "      <td>14101</td>\n",
       "    </tr>\n",
       "    <tr>\n",
       "      <th>31529</th>\n",
       "      <td>Living_people</td>\n",
       "      <td>1025351</td>\n",
       "      <td>13250</td>\n",
       "    </tr>\n",
       "    <tr>\n",
       "      <th>239794</th>\n",
       "      <td>American_films</td>\n",
       "      <td>1060752</td>\n",
       "      <td>12954</td>\n",
       "    </tr>\n",
       "    <tr>\n",
       "      <th>30261</th>\n",
       "      <td>Association_football_defenders</td>\n",
       "      <td>88421</td>\n",
       "      <td>12848</td>\n",
       "    </tr>\n",
       "    <tr>\n",
       "      <th>5797</th>\n",
       "      <td>Association_football_midfielders</td>\n",
       "      <td>88793</td>\n",
       "      <td>12844</td>\n",
       "    </tr>\n",
       "    <tr>\n",
       "      <th>53001</th>\n",
       "      <td>Living_people</td>\n",
       "      <td>1061811</td>\n",
       "      <td>12587</td>\n",
       "    </tr>\n",
       "    <tr>\n",
       "      <th>23563</th>\n",
       "      <td>Association_football_defenders</td>\n",
       "      <td>87496</td>\n",
       "      <td>11952</td>\n",
       "    </tr>\n",
       "    <tr>\n",
       "      <th>210123</th>\n",
       "      <td>Living_people</td>\n",
       "      <td>1489163</td>\n",
       "      <td>11791</td>\n",
       "    </tr>\n",
       "    <tr>\n",
       "      <th>28365</th>\n",
       "      <td>Association_football_defenders</td>\n",
       "      <td>84852</td>\n",
       "      <td>11567</td>\n",
       "    </tr>\n",
       "    <tr>\n",
       "      <th>319358</th>\n",
       "      <td>American_films</td>\n",
       "      <td>1062206</td>\n",
       "      <td>11367</td>\n",
       "    </tr>\n",
       "    <tr>\n",
       "      <th>419</th>\n",
       "      <td>Living_people</td>\n",
       "      <td>1061880</td>\n",
       "      <td>11159</td>\n",
       "    </tr>\n",
       "    <tr>\n",
       "      <th>61054</th>\n",
       "      <td>Living_people</td>\n",
       "      <td>1061916</td>\n",
       "      <td>10926</td>\n",
       "    </tr>\n",
       "    <tr>\n",
       "      <th>98788</th>\n",
       "      <td>Living_people</td>\n",
       "      <td>1061592</td>\n",
       "      <td>10855</td>\n",
       "    </tr>\n",
       "    <tr>\n",
       "      <th>17345</th>\n",
       "      <td>Association_football_midfielders</td>\n",
       "      <td>78971</td>\n",
       "      <td>10548</td>\n",
       "    </tr>\n",
       "    <tr>\n",
       "      <th>24898</th>\n",
       "      <td>Association_football_defenders</td>\n",
       "      <td>896183</td>\n",
       "      <td>10548</td>\n",
       "    </tr>\n",
       "    <tr>\n",
       "      <th>...</th>\n",
       "      <td>...</td>\n",
       "      <td>...</td>\n",
       "      <td>...</td>\n",
       "    </tr>\n",
       "    <tr>\n",
       "      <th>4405</th>\n",
       "      <td>Living_people</td>\n",
       "      <td>1061902</td>\n",
       "      <td>6011</td>\n",
       "    </tr>\n",
       "    <tr>\n",
       "      <th>94331</th>\n",
       "      <td>Living_people</td>\n",
       "      <td>1404199</td>\n",
       "      <td>6004</td>\n",
       "    </tr>\n",
       "    <tr>\n",
       "      <th>327445</th>\n",
       "      <td>American_films</td>\n",
       "      <td>1049576</td>\n",
       "      <td>5802</td>\n",
       "    </tr>\n",
       "    <tr>\n",
       "      <th>2228</th>\n",
       "      <td>Living_people</td>\n",
       "      <td>1061960</td>\n",
       "      <td>5796</td>\n",
       "    </tr>\n",
       "    <tr>\n",
       "      <th>182792</th>\n",
       "      <td>American_films</td>\n",
       "      <td>1065879</td>\n",
       "      <td>5692</td>\n",
       "    </tr>\n",
       "    <tr>\n",
       "      <th>50462</th>\n",
       "      <td>American_films</td>\n",
       "      <td>1067459</td>\n",
       "      <td>5678</td>\n",
       "    </tr>\n",
       "    <tr>\n",
       "      <th>337341</th>\n",
       "      <td>American_films</td>\n",
       "      <td>1270782</td>\n",
       "      <td>5677</td>\n",
       "    </tr>\n",
       "    <tr>\n",
       "      <th>87052</th>\n",
       "      <td>Living_people</td>\n",
       "      <td>1061489</td>\n",
       "      <td>5675</td>\n",
       "    </tr>\n",
       "    <tr>\n",
       "      <th>160288</th>\n",
       "      <td>American_films</td>\n",
       "      <td>827905</td>\n",
       "      <td>5675</td>\n",
       "    </tr>\n",
       "    <tr>\n",
       "      <th>25002</th>\n",
       "      <td>Association_football_defenders</td>\n",
       "      <td>89628</td>\n",
       "      <td>5539</td>\n",
       "    </tr>\n",
       "    <tr>\n",
       "      <th>5862</th>\n",
       "      <td>Association_football_forwards</td>\n",
       "      <td>82058</td>\n",
       "      <td>5520</td>\n",
       "    </tr>\n",
       "    <tr>\n",
       "      <th>9958</th>\n",
       "      <td>Association_football_midfielders</td>\n",
       "      <td>83513</td>\n",
       "      <td>5496</td>\n",
       "    </tr>\n",
       "    <tr>\n",
       "      <th>28049</th>\n",
       "      <td>Association_football_defenders</td>\n",
       "      <td>83987</td>\n",
       "      <td>5490</td>\n",
       "    </tr>\n",
       "    <tr>\n",
       "      <th>319138</th>\n",
       "      <td>American_films</td>\n",
       "      <td>1065865</td>\n",
       "      <td>5477</td>\n",
       "    </tr>\n",
       "    <tr>\n",
       "      <th>354316</th>\n",
       "      <td>American_films</td>\n",
       "      <td>1264652</td>\n",
       "      <td>5476</td>\n",
       "    </tr>\n",
       "    <tr>\n",
       "      <th>336966</th>\n",
       "      <td>American_films</td>\n",
       "      <td>1064067</td>\n",
       "      <td>5472</td>\n",
       "    </tr>\n",
       "    <tr>\n",
       "      <th>5887</th>\n",
       "      <td>Association_football_forwards</td>\n",
       "      <td>83509</td>\n",
       "      <td>5464</td>\n",
       "    </tr>\n",
       "    <tr>\n",
       "      <th>182206</th>\n",
       "      <td>American_films</td>\n",
       "      <td>572526</td>\n",
       "      <td>5464</td>\n",
       "    </tr>\n",
       "    <tr>\n",
       "      <th>182205</th>\n",
       "      <td>American_films</td>\n",
       "      <td>572525</td>\n",
       "      <td>5464</td>\n",
       "    </tr>\n",
       "    <tr>\n",
       "      <th>182199</th>\n",
       "      <td>American_films</td>\n",
       "      <td>572520</td>\n",
       "      <td>5463</td>\n",
       "    </tr>\n",
       "    <tr>\n",
       "      <th>182182</th>\n",
       "      <td>American_films</td>\n",
       "      <td>572508</td>\n",
       "      <td>5463</td>\n",
       "    </tr>\n",
       "    <tr>\n",
       "      <th>91104</th>\n",
       "      <td>Living_people</td>\n",
       "      <td>1163684</td>\n",
       "      <td>5463</td>\n",
       "    </tr>\n",
       "    <tr>\n",
       "      <th>182196</th>\n",
       "      <td>American_films</td>\n",
       "      <td>572517</td>\n",
       "      <td>5463</td>\n",
       "    </tr>\n",
       "    <tr>\n",
       "      <th>182207</th>\n",
       "      <td>American_films</td>\n",
       "      <td>572527</td>\n",
       "      <td>5463</td>\n",
       "    </tr>\n",
       "    <tr>\n",
       "      <th>182204</th>\n",
       "      <td>American_films</td>\n",
       "      <td>572524</td>\n",
       "      <td>5463</td>\n",
       "    </tr>\n",
       "    <tr>\n",
       "      <th>182198</th>\n",
       "      <td>American_films</td>\n",
       "      <td>572519</td>\n",
       "      <td>5463</td>\n",
       "    </tr>\n",
       "    <tr>\n",
       "      <th>331761</th>\n",
       "      <td>American_films</td>\n",
       "      <td>1069678</td>\n",
       "      <td>5463</td>\n",
       "    </tr>\n",
       "    <tr>\n",
       "      <th>354314</th>\n",
       "      <td>American_films</td>\n",
       "      <td>1264648</td>\n",
       "      <td>5463</td>\n",
       "    </tr>\n",
       "    <tr>\n",
       "      <th>354321</th>\n",
       "      <td>American_films</td>\n",
       "      <td>1266885</td>\n",
       "      <td>5463</td>\n",
       "    </tr>\n",
       "    <tr>\n",
       "      <th>335052</th>\n",
       "      <td>American_films</td>\n",
       "      <td>1264649</td>\n",
       "      <td>5463</td>\n",
       "    </tr>\n",
       "  </tbody>\n",
       "</table>\n",
       "<p>100 rows × 3 columns</p>\n",
       "</div>"
      ],
      "text/plain": [
       "                                Category     Node  Score\n",
       "28889               American_film_actors  1163692  70269\n",
       "47541               American_film_actors  1061504  45756\n",
       "13009               American_film_actors  1061422  30179\n",
       "19085               American_film_actors  1061395  29481\n",
       "24869     Association_football_defenders    85428  26576\n",
       "65350               American_film_actors  1061446  24563\n",
       "27653     Association_football_defenders    87523  23699\n",
       "26523   Association_football_midfielders    84849  23685\n",
       "2460                American_film_actors  1061427  19298\n",
       "47928               American_film_actors  1061429  18787\n",
       "47235                      Living_people  1062039  18324\n",
       "22511     Association_football_defenders    89878  18196\n",
       "47929               American_film_actors  1062109  17411\n",
       "2230                       Living_people  1062025  14476\n",
       "110221              American_film_actors  1163836  14364\n",
       "44870               American_film_actors  1061637  14101\n",
       "31529                      Living_people  1025351  13250\n",
       "239794                    American_films  1060752  12954\n",
       "30261     Association_football_defenders    88421  12848\n",
       "5797    Association_football_midfielders    88793  12844\n",
       "53001                      Living_people  1061811  12587\n",
       "23563     Association_football_defenders    87496  11952\n",
       "210123                     Living_people  1489163  11791\n",
       "28365     Association_football_defenders    84852  11567\n",
       "319358                    American_films  1062206  11367\n",
       "419                        Living_people  1061880  11159\n",
       "61054                      Living_people  1061916  10926\n",
       "98788                      Living_people  1061592  10855\n",
       "17345   Association_football_midfielders    78971  10548\n",
       "24898     Association_football_defenders   896183  10548\n",
       "...                                  ...      ...    ...\n",
       "4405                       Living_people  1061902   6011\n",
       "94331                      Living_people  1404199   6004\n",
       "327445                    American_films  1049576   5802\n",
       "2228                       Living_people  1061960   5796\n",
       "182792                    American_films  1065879   5692\n",
       "50462                     American_films  1067459   5678\n",
       "337341                    American_films  1270782   5677\n",
       "87052                      Living_people  1061489   5675\n",
       "160288                    American_films   827905   5675\n",
       "25002     Association_football_defenders    89628   5539\n",
       "5862       Association_football_forwards    82058   5520\n",
       "9958    Association_football_midfielders    83513   5496\n",
       "28049     Association_football_defenders    83987   5490\n",
       "319138                    American_films  1065865   5477\n",
       "354316                    American_films  1264652   5476\n",
       "336966                    American_films  1064067   5472\n",
       "5887       Association_football_forwards    83509   5464\n",
       "182206                    American_films   572526   5464\n",
       "182205                    American_films   572525   5464\n",
       "182199                    American_films   572520   5463\n",
       "182182                    American_films   572508   5463\n",
       "91104                      Living_people  1163684   5463\n",
       "182196                    American_films   572517   5463\n",
       "182207                    American_films   572527   5463\n",
       "182204                    American_films   572524   5463\n",
       "182198                    American_films   572519   5463\n",
       "331761                    American_films  1069678   5463\n",
       "354314                    American_films  1264648   5463\n",
       "354321                    American_films  1266885   5463\n",
       "335052                    American_films  1264649   5463\n",
       "\n",
       "[100 rows x 3 columns]"
      ]
     },
     "execution_count": 7,
     "metadata": {},
     "output_type": "execute_result"
    }
   ],
   "source": [
    "dfscore=pd.DataFrame(list1)\n",
    "dfscore = dfscore.sort_values(by='Score', ascending=False)\n",
    "dfscore.head(100)"
   ]
  }
 ],
 "metadata": {
  "kernelspec": {
   "display_name": "Python 3",
   "language": "python",
   "name": "python3"
  },
  "language_info": {
   "codemirror_mode": {
    "name": "ipython",
    "version": 3
   },
   "file_extension": ".py",
   "mimetype": "text/x-python",
   "name": "python",
   "nbconvert_exporter": "python",
   "pygments_lexer": "ipython3",
   "version": "3.7.0"
  }
 },
 "nbformat": 4,
 "nbformat_minor": 2
}
